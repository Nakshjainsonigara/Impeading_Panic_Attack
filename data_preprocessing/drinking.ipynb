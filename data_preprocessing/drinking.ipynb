{
 "cells": [
  {
   "cell_type": "code",
   "id": "initial_id",
   "metadata": {
    "collapsed": true,
    "ExecuteTime": {
     "end_time": "2025-03-12T14:19:13.389910Z",
     "start_time": "2025-03-12T14:19:12.690088Z"
    }
   },
   "source": [
    "import numpy as np\n",
    "import pandas as pd"
   ],
   "outputs": [],
   "execution_count": 1
  },
  {
   "metadata": {
    "ExecuteTime": {
     "end_time": "2025-03-12T14:19:14.386850Z",
     "start_time": "2025-03-12T14:19:14.026480Z"
    }
   },
   "cell_type": "code",
   "source": "df = pd.read_excel(\"../data/Dailylog data -lifelog/Lifestyle - Drinking (2).xlsx\")",
   "id": "e1a4f46a566b84bf",
   "outputs": [],
   "execution_count": 2
  },
  {
   "metadata": {
    "ExecuteTime": {
     "end_time": "2025-03-12T14:19:15.851175Z",
     "start_time": "2025-03-12T14:19:15.844105Z"
    }
   },
   "cell_type": "code",
   "source": "df['Date'] = pd.to_datetime(df['Date'], format = '%Y-%m-%d %H:%M:%S')",
   "id": "3b8347b2fc10e496",
   "outputs": [],
   "execution_count": 3
  },
  {
   "metadata": {
    "ExecuteTime": {
     "end_time": "2025-03-12T14:19:17.563869Z",
     "start_time": "2025-03-12T14:19:17.557594Z"
    }
   },
   "cell_type": "code",
   "source": "df.rename(columns={\"Non-identifying keys\":\"id\"},inplace=True)",
   "id": "d15adcbed4591ef",
   "outputs": [],
   "execution_count": 4
  },
  {
   "metadata": {
    "ExecuteTime": {
     "end_time": "2025-03-12T14:19:18.849581Z",
     "start_time": "2025-03-12T14:19:18.842547Z"
    }
   },
   "cell_type": "code",
   "source": "df.drop(columns=\"When\",inplace=True)",
   "id": "cedca41a7ffdc67e",
   "outputs": [],
   "execution_count": 5
  },
  {
   "metadata": {
    "ExecuteTime": {
     "end_time": "2025-03-12T14:19:37.413138Z",
     "start_time": "2025-03-12T14:19:37.397141Z"
    }
   },
   "cell_type": "code",
   "source": "df",
   "id": "51a4eae9e6ba7de2",
   "outputs": [
    {
     "data": {
      "text/plain": [
       "             id       Date   Types of alcohol  Alcohol consumption  \\\n",
       "0    SYM2-1-101 2021-03-02  Other (rice wine)                    3   \n",
       "1    SYM2-1-101 2021-03-03  Other (rice wine)                    3   \n",
       "2    SYM2-1-135 2021-03-17               Beer                   25   \n",
       "3    SYM2-1-137 2021-04-27               Soju                    1   \n",
       "4    SYM2-1-292 2021-05-17               Beer                    2   \n",
       "..          ...        ...                ...                  ...   \n",
       "521  SYM2-1-634 2023-12-09             Liquor                    6   \n",
       "522  SYM2-1-634 2023-12-10         Fruit wine                   15   \n",
       "523  SYM2-1-634 2023-12-10             Liquor                    3   \n",
       "524  SYM2-1-634 2023-12-10               Beer                    2   \n",
       "525  SYM2-1-634 2023-12-10               Soju                    5   \n",
       "\n",
       "               units  \n",
       "0    glasses (200ml)  \n",
       "1    glasses (200ml)  \n",
       "2    glasses (500ml)  \n",
       "3     glasses (50ml)  \n",
       "4    glasses (500ml)  \n",
       "..               ...  \n",
       "521      shots (1oz)  \n",
       "522   glasses (50ml)  \n",
       "523      shots (1oz)  \n",
       "524  glasses (500ml)  \n",
       "525   glasses (50ml)  \n",
       "\n",
       "[526 rows x 5 columns]"
      ],
      "text/html": [
       "<div>\n",
       "<style scoped>\n",
       "    .dataframe tbody tr th:only-of-type {\n",
       "        vertical-align: middle;\n",
       "    }\n",
       "\n",
       "    .dataframe tbody tr th {\n",
       "        vertical-align: top;\n",
       "    }\n",
       "\n",
       "    .dataframe thead th {\n",
       "        text-align: right;\n",
       "    }\n",
       "</style>\n",
       "<table border=\"1\" class=\"dataframe\">\n",
       "  <thead>\n",
       "    <tr style=\"text-align: right;\">\n",
       "      <th></th>\n",
       "      <th>id</th>\n",
       "      <th>Date</th>\n",
       "      <th>Types of alcohol</th>\n",
       "      <th>Alcohol consumption</th>\n",
       "      <th>units</th>\n",
       "    </tr>\n",
       "  </thead>\n",
       "  <tbody>\n",
       "    <tr>\n",
       "      <th>0</th>\n",
       "      <td>SYM2-1-101</td>\n",
       "      <td>2021-03-02</td>\n",
       "      <td>Other (rice wine)</td>\n",
       "      <td>3</td>\n",
       "      <td>glasses (200ml)</td>\n",
       "    </tr>\n",
       "    <tr>\n",
       "      <th>1</th>\n",
       "      <td>SYM2-1-101</td>\n",
       "      <td>2021-03-03</td>\n",
       "      <td>Other (rice wine)</td>\n",
       "      <td>3</td>\n",
       "      <td>glasses (200ml)</td>\n",
       "    </tr>\n",
       "    <tr>\n",
       "      <th>2</th>\n",
       "      <td>SYM2-1-135</td>\n",
       "      <td>2021-03-17</td>\n",
       "      <td>Beer</td>\n",
       "      <td>25</td>\n",
       "      <td>glasses (500ml)</td>\n",
       "    </tr>\n",
       "    <tr>\n",
       "      <th>3</th>\n",
       "      <td>SYM2-1-137</td>\n",
       "      <td>2021-04-27</td>\n",
       "      <td>Soju</td>\n",
       "      <td>1</td>\n",
       "      <td>glasses (50ml)</td>\n",
       "    </tr>\n",
       "    <tr>\n",
       "      <th>4</th>\n",
       "      <td>SYM2-1-292</td>\n",
       "      <td>2021-05-17</td>\n",
       "      <td>Beer</td>\n",
       "      <td>2</td>\n",
       "      <td>glasses (500ml)</td>\n",
       "    </tr>\n",
       "    <tr>\n",
       "      <th>...</th>\n",
       "      <td>...</td>\n",
       "      <td>...</td>\n",
       "      <td>...</td>\n",
       "      <td>...</td>\n",
       "      <td>...</td>\n",
       "    </tr>\n",
       "    <tr>\n",
       "      <th>521</th>\n",
       "      <td>SYM2-1-634</td>\n",
       "      <td>2023-12-09</td>\n",
       "      <td>Liquor</td>\n",
       "      <td>6</td>\n",
       "      <td>shots (1oz)</td>\n",
       "    </tr>\n",
       "    <tr>\n",
       "      <th>522</th>\n",
       "      <td>SYM2-1-634</td>\n",
       "      <td>2023-12-10</td>\n",
       "      <td>Fruit wine</td>\n",
       "      <td>15</td>\n",
       "      <td>glasses (50ml)</td>\n",
       "    </tr>\n",
       "    <tr>\n",
       "      <th>523</th>\n",
       "      <td>SYM2-1-634</td>\n",
       "      <td>2023-12-10</td>\n",
       "      <td>Liquor</td>\n",
       "      <td>3</td>\n",
       "      <td>shots (1oz)</td>\n",
       "    </tr>\n",
       "    <tr>\n",
       "      <th>524</th>\n",
       "      <td>SYM2-1-634</td>\n",
       "      <td>2023-12-10</td>\n",
       "      <td>Beer</td>\n",
       "      <td>2</td>\n",
       "      <td>glasses (500ml)</td>\n",
       "    </tr>\n",
       "    <tr>\n",
       "      <th>525</th>\n",
       "      <td>SYM2-1-634</td>\n",
       "      <td>2023-12-10</td>\n",
       "      <td>Soju</td>\n",
       "      <td>5</td>\n",
       "      <td>glasses (50ml)</td>\n",
       "    </tr>\n",
       "  </tbody>\n",
       "</table>\n",
       "<p>526 rows × 5 columns</p>\n",
       "</div>"
      ]
     },
     "execution_count": 6,
     "metadata": {},
     "output_type": "execute_result"
    }
   ],
   "execution_count": 6
  },
  {
   "metadata": {
    "ExecuteTime": {
     "end_time": "2025-03-12T14:19:39.931710Z",
     "start_time": "2025-03-12T14:19:39.923093Z"
    }
   },
   "cell_type": "code",
   "source": "df.isna().sum()",
   "id": "c68eb2ebb117ae24",
   "outputs": [
    {
     "data": {
      "text/plain": [
       "id                     0\n",
       "Date                   0\n",
       "Types of alcohol       0\n",
       "Alcohol consumption    0\n",
       "units                  0\n",
       "dtype: int64"
      ]
     },
     "execution_count": 7,
     "metadata": {},
     "output_type": "execute_result"
    }
   ],
   "execution_count": 7
  },
  {
   "metadata": {
    "ExecuteTime": {
     "end_time": "2025-03-12T14:21:22.897502Z",
     "start_time": "2025-03-12T14:21:22.879491Z"
    }
   },
   "cell_type": "code",
   "source": [
    "df[\"units\"]=df[\"units\"].str.extract(r\"(\\d+)\").astype(int)\n",
    "df[\"total_alcohol_consumption\"]=df[\"Alcohol consumption\"]*df[\"units\"]"
   ],
   "id": "3e3c2a9e7d9b3e63",
   "outputs": [],
   "execution_count": 11
  },
  {
   "metadata": {
    "ExecuteTime": {
     "end_time": "2025-03-12T14:21:24.275094Z",
     "start_time": "2025-03-12T14:21:24.268422Z"
    }
   },
   "cell_type": "code",
   "source": "df.drop(columns=[\"Alcohol consumption\",\"units\",\"Types of alcohol\"],inplace=True)",
   "id": "c6178161f19c0469",
   "outputs": [],
   "execution_count": 12
  },
  {
   "metadata": {
    "ExecuteTime": {
     "end_time": "2025-03-12T14:21:25.536837Z",
     "start_time": "2025-03-12T14:21:25.523652Z"
    }
   },
   "cell_type": "code",
   "source": [
    "print(df[[\"id\",\"Date\"]].duplicated().sum())\n",
    "df = df.drop_duplicates(subset=[\"id\", \"Date\"], keep='first')\n",
    "print(df[[\"id\",\"Date\"]].duplicated().sum())"
   ],
   "id": "3ef6f09356b472fd",
   "outputs": [
    {
     "name": "stdout",
     "output_type": "stream",
     "text": [
      "40\n",
      "0\n"
     ]
    }
   ],
   "execution_count": 13
  },
  {
   "metadata": {
    "ExecuteTime": {
     "end_time": "2025-03-12T14:21:27.041792Z",
     "start_time": "2025-03-12T14:21:27.025896Z"
    }
   },
   "cell_type": "code",
   "source": [
    "df.columns=df.columns.str.lower()\n",
    "df.to_csv(\"../data_processed/daily_lifelog/drinking.csv\",index=False)"
   ],
   "id": "b77d759db4722f2b",
   "outputs": [],
   "execution_count": 14
  }
 ],
 "metadata": {
  "kernelspec": {
   "display_name": "Python 3",
   "language": "python",
   "name": "python3"
  },
  "language_info": {
   "codemirror_mode": {
    "name": "ipython",
    "version": 2
   },
   "file_extension": ".py",
   "mimetype": "text/x-python",
   "name": "python",
   "nbconvert_exporter": "python",
   "pygments_lexer": "ipython2",
   "version": "2.7.6"
  }
 },
 "nbformat": 4,
 "nbformat_minor": 5
}
