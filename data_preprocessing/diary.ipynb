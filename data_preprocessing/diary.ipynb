{
 "cells": [
  {
   "cell_type": "code",
   "id": "initial_id",
   "metadata": {
    "collapsed": true,
    "ExecuteTime": {
     "end_time": "2025-03-12T14:21:58.520349Z",
     "start_time": "2025-03-12T14:21:57.501979Z"
    }
   },
   "source": [
    "import numpy as np\n",
    "import pandas as pd"
   ],
   "outputs": [],
   "execution_count": 1
  },
  {
   "metadata": {
    "ExecuteTime": {
     "end_time": "2025-03-12T14:22:01.666299Z",
     "start_time": "2025-03-12T14:21:58.534370Z"
    }
   },
   "cell_type": "code",
   "source": [
    "df = pd.read_excel(\"../data/Dailylog data -lifelog/Diary.xlsx\",parse_dates=[\"Date \"])\n",
    "df.shape"
   ],
   "id": "dc3be507d3a0c92f",
   "outputs": [
    {
     "data": {
      "text/plain": [
       "(430, 5)"
      ]
     },
     "execution_count": 2,
     "metadata": {},
     "output_type": "execute_result"
    }
   ],
   "execution_count": 2
  },
  {
   "metadata": {
    "ExecuteTime": {
     "end_time": "2025-03-12T14:22:02.289378Z",
     "start_time": "2025-03-12T14:22:02.281394Z"
    }
   },
   "cell_type": "code",
   "source": "df.rename(columns={\"Non-identifying keys \":\"id\"},inplace=True)",
   "id": "79b09c009e1d1355",
   "outputs": [],
   "execution_count": 3
  },
  {
   "metadata": {
    "ExecuteTime": {
     "end_time": "2025-03-12T14:22:03.793509Z",
     "start_time": "2025-03-12T14:22:03.786290Z"
    }
   },
   "cell_type": "code",
   "source": "df.drop(columns=[\"Time \",\"Contents \"],inplace=True)",
   "id": "92506ccae5117bef",
   "outputs": [],
   "execution_count": 4
  },
  {
   "metadata": {
    "ExecuteTime": {
     "end_time": "2025-03-12T14:22:05.129050Z",
     "start_time": "2025-03-12T14:22:05.114597Z"
    }
   },
   "cell_type": "code",
   "source": [
    "print(df[[\"id\",\"Date \"]].duplicated().sum())\n",
    "df = df.drop_duplicates(subset=[\"id\", \"Date \"], keep='first')\n",
    "print(df[[\"id\",\"Date \"]].duplicated().sum())"
   ],
   "id": "bfde492c45c75251",
   "outputs": [
    {
     "name": "stdout",
     "output_type": "stream",
     "text": [
      "66\n",
      "0\n"
     ]
    }
   ],
   "execution_count": 5
  },
  {
   "metadata": {
    "ExecuteTime": {
     "end_time": "2025-03-12T14:22:12.750732Z",
     "start_time": "2025-03-12T14:22:12.711442Z"
    }
   },
   "cell_type": "code",
   "source": [
    "df.columns=df.columns.str.lower()\n",
    "df.to_csv(\"../data_processed/daily_lifelog/diary.csv\",index=False)"
   ],
   "id": "d5ecea93ddfa012f",
   "outputs": [],
   "execution_count": 7
  }
 ],
 "metadata": {
  "kernelspec": {
   "display_name": "Python 3",
   "language": "python",
   "name": "python3"
  },
  "language_info": {
   "codemirror_mode": {
    "name": "ipython",
    "version": 2
   },
   "file_extension": ".py",
   "mimetype": "text/x-python",
   "name": "python",
   "nbconvert_exporter": "python",
   "pygments_lexer": "ipython2",
   "version": "2.7.6"
  }
 },
 "nbformat": 4,
 "nbformat_minor": 5
}
