{
 "cells": [
  {
   "cell_type": "code",
   "id": "initial_id",
   "metadata": {
    "collapsed": true,
    "ExecuteTime": {
     "end_time": "2025-03-06T17:31:05.378261Z",
     "start_time": "2025-03-06T17:31:05.372255Z"
    }
   },
   "source": [
    "import numpy as np\n",
    "import pandas as pd"
   ],
   "outputs": [],
   "execution_count": 39
  },
  {
   "metadata": {
    "ExecuteTime": {
     "end_time": "2025-03-06T17:31:06.917151Z",
     "start_time": "2025-03-06T17:31:06.856401Z"
    }
   },
   "cell_type": "code",
   "source": "df = pd.read_excel(\"../data/Dailylog data -lifelog/Lifestyle - Drinking (2).xlsx\")",
   "id": "e1a4f46a566b84bf",
   "outputs": [],
   "execution_count": 40
  },
  {
   "metadata": {
    "ExecuteTime": {
     "end_time": "2025-03-06T17:31:08.304128Z",
     "start_time": "2025-03-06T17:31:08.298115Z"
    }
   },
   "cell_type": "code",
   "source": "df.rename(columns={\"Non-identifying keys\":\"id\"},inplace=True)",
   "id": "d15adcbed4591ef",
   "outputs": [],
   "execution_count": 41
  },
  {
   "metadata": {
    "ExecuteTime": {
     "end_time": "2025-03-06T17:15:40.266679Z",
     "start_time": "2025-03-06T17:15:40.244256Z"
    }
   },
   "cell_type": "code",
   "source": "df",
   "id": "51a4eae9e6ba7de2",
   "outputs": [
    {
     "data": {
      "text/plain": [
       "             id       Date     When   Types of alcohol  Alcohol consumption  \\\n",
       "0    SYM2-1-101 2021-03-02  Evening  Other (rice wine)                    3   \n",
       "1    SYM2-1-101 2021-03-03  Evening  Other (rice wine)                    3   \n",
       "2    SYM2-1-135 2021-03-17       AM               Beer                   25   \n",
       "3    SYM2-1-137 2021-04-27       AM               Soju                    1   \n",
       "4    SYM2-1-292 2021-05-17  Evening               Beer                    2   \n",
       "..          ...        ...      ...                ...                  ...   \n",
       "521  SYM2-1-634 2023-12-09       PM             Liquor                    6   \n",
       "522  SYM2-1-634 2023-12-10       PM         Fruit wine                   15   \n",
       "523  SYM2-1-634 2023-12-10       PM             Liquor                    3   \n",
       "524  SYM2-1-634 2023-12-10  Evening               Beer                    2   \n",
       "525  SYM2-1-634 2023-12-10  Evening               Soju                    5   \n",
       "\n",
       "               units  \n",
       "0    glasses (200ml)  \n",
       "1    glasses (200ml)  \n",
       "2    glasses (500ml)  \n",
       "3     glasses (50ml)  \n",
       "4    glasses (500ml)  \n",
       "..               ...  \n",
       "521      shots (1oz)  \n",
       "522   glasses (50ml)  \n",
       "523      shots (1oz)  \n",
       "524  glasses (500ml)  \n",
       "525   glasses (50ml)  \n",
       "\n",
       "[526 rows x 6 columns]"
      ],
      "text/html": [
       "<div>\n",
       "<style scoped>\n",
       "    .dataframe tbody tr th:only-of-type {\n",
       "        vertical-align: middle;\n",
       "    }\n",
       "\n",
       "    .dataframe tbody tr th {\n",
       "        vertical-align: top;\n",
       "    }\n",
       "\n",
       "    .dataframe thead th {\n",
       "        text-align: right;\n",
       "    }\n",
       "</style>\n",
       "<table border=\"1\" class=\"dataframe\">\n",
       "  <thead>\n",
       "    <tr style=\"text-align: right;\">\n",
       "      <th></th>\n",
       "      <th>id</th>\n",
       "      <th>Date</th>\n",
       "      <th>When</th>\n",
       "      <th>Types of alcohol</th>\n",
       "      <th>Alcohol consumption</th>\n",
       "      <th>units</th>\n",
       "    </tr>\n",
       "  </thead>\n",
       "  <tbody>\n",
       "    <tr>\n",
       "      <th>0</th>\n",
       "      <td>SYM2-1-101</td>\n",
       "      <td>2021-03-02</td>\n",
       "      <td>Evening</td>\n",
       "      <td>Other (rice wine)</td>\n",
       "      <td>3</td>\n",
       "      <td>glasses (200ml)</td>\n",
       "    </tr>\n",
       "    <tr>\n",
       "      <th>1</th>\n",
       "      <td>SYM2-1-101</td>\n",
       "      <td>2021-03-03</td>\n",
       "      <td>Evening</td>\n",
       "      <td>Other (rice wine)</td>\n",
       "      <td>3</td>\n",
       "      <td>glasses (200ml)</td>\n",
       "    </tr>\n",
       "    <tr>\n",
       "      <th>2</th>\n",
       "      <td>SYM2-1-135</td>\n",
       "      <td>2021-03-17</td>\n",
       "      <td>AM</td>\n",
       "      <td>Beer</td>\n",
       "      <td>25</td>\n",
       "      <td>glasses (500ml)</td>\n",
       "    </tr>\n",
       "    <tr>\n",
       "      <th>3</th>\n",
       "      <td>SYM2-1-137</td>\n",
       "      <td>2021-04-27</td>\n",
       "      <td>AM</td>\n",
       "      <td>Soju</td>\n",
       "      <td>1</td>\n",
       "      <td>glasses (50ml)</td>\n",
       "    </tr>\n",
       "    <tr>\n",
       "      <th>4</th>\n",
       "      <td>SYM2-1-292</td>\n",
       "      <td>2021-05-17</td>\n",
       "      <td>Evening</td>\n",
       "      <td>Beer</td>\n",
       "      <td>2</td>\n",
       "      <td>glasses (500ml)</td>\n",
       "    </tr>\n",
       "    <tr>\n",
       "      <th>...</th>\n",
       "      <td>...</td>\n",
       "      <td>...</td>\n",
       "      <td>...</td>\n",
       "      <td>...</td>\n",
       "      <td>...</td>\n",
       "      <td>...</td>\n",
       "    </tr>\n",
       "    <tr>\n",
       "      <th>521</th>\n",
       "      <td>SYM2-1-634</td>\n",
       "      <td>2023-12-09</td>\n",
       "      <td>PM</td>\n",
       "      <td>Liquor</td>\n",
       "      <td>6</td>\n",
       "      <td>shots (1oz)</td>\n",
       "    </tr>\n",
       "    <tr>\n",
       "      <th>522</th>\n",
       "      <td>SYM2-1-634</td>\n",
       "      <td>2023-12-10</td>\n",
       "      <td>PM</td>\n",
       "      <td>Fruit wine</td>\n",
       "      <td>15</td>\n",
       "      <td>glasses (50ml)</td>\n",
       "    </tr>\n",
       "    <tr>\n",
       "      <th>523</th>\n",
       "      <td>SYM2-1-634</td>\n",
       "      <td>2023-12-10</td>\n",
       "      <td>PM</td>\n",
       "      <td>Liquor</td>\n",
       "      <td>3</td>\n",
       "      <td>shots (1oz)</td>\n",
       "    </tr>\n",
       "    <tr>\n",
       "      <th>524</th>\n",
       "      <td>SYM2-1-634</td>\n",
       "      <td>2023-12-10</td>\n",
       "      <td>Evening</td>\n",
       "      <td>Beer</td>\n",
       "      <td>2</td>\n",
       "      <td>glasses (500ml)</td>\n",
       "    </tr>\n",
       "    <tr>\n",
       "      <th>525</th>\n",
       "      <td>SYM2-1-634</td>\n",
       "      <td>2023-12-10</td>\n",
       "      <td>Evening</td>\n",
       "      <td>Soju</td>\n",
       "      <td>5</td>\n",
       "      <td>glasses (50ml)</td>\n",
       "    </tr>\n",
       "  </tbody>\n",
       "</table>\n",
       "<p>526 rows × 6 columns</p>\n",
       "</div>"
      ]
     },
     "execution_count": 22,
     "metadata": {},
     "output_type": "execute_result"
    }
   ],
   "execution_count": 22
  },
  {
   "metadata": {
    "ExecuteTime": {
     "end_time": "2025-03-06T17:16:53.979446Z",
     "start_time": "2025-03-06T17:16:53.969448Z"
    }
   },
   "cell_type": "code",
   "source": "df.isna().sum()",
   "id": "c68eb2ebb117ae24",
   "outputs": [
    {
     "data": {
      "text/plain": [
       "id                     0\n",
       "Date                   0\n",
       "When                   0\n",
       "Types of alcohol       0\n",
       "Alcohol consumption    0\n",
       "units                  0\n",
       "dtype: int64"
      ]
     },
     "execution_count": 32,
     "metadata": {},
     "output_type": "execute_result"
    }
   ],
   "execution_count": 32
  },
  {
   "metadata": {
    "ExecuteTime": {
     "end_time": "2025-03-06T17:16:55.777522Z",
     "start_time": "2025-03-06T17:16:55.771331Z"
    }
   },
   "cell_type": "code",
   "source": "df[\"When\"].unique()",
   "id": "17b340f820bf4bc8",
   "outputs": [
    {
     "data": {
      "text/plain": [
       "array(['Evening', 'AM', 'PM'], dtype=object)"
      ]
     },
     "execution_count": 33,
     "metadata": {},
     "output_type": "execute_result"
    }
   ],
   "execution_count": 33
  },
  {
   "metadata": {
    "ExecuteTime": {
     "end_time": "2025-03-06T17:31:13.773164Z",
     "start_time": "2025-03-06T17:31:13.764999Z"
    }
   },
   "cell_type": "code",
   "source": [
    "df[\"units\"]=df[\"units\"].str.extract(r\"(\\d+)\").astype(int)\n",
    "df[\"total_alcohol_consumption\"]=df[\"Alcohol consumption\"]*df[\"units\"]"
   ],
   "id": "3e3c2a9e7d9b3e63",
   "outputs": [],
   "execution_count": 42
  },
  {
   "metadata": {
    "ExecuteTime": {
     "end_time": "2025-03-06T17:31:15.010476Z",
     "start_time": "2025-03-06T17:31:15.004268Z"
    }
   },
   "cell_type": "code",
   "source": "df.drop(columns=[\"Alcohol consumption\",\"units\",\"Types of alcohol\"],inplace=True)",
   "id": "c6178161f19c0469",
   "outputs": [],
   "execution_count": 43
  },
  {
   "metadata": {
    "ExecuteTime": {
     "end_time": "2025-03-06T17:31:16.153692Z",
     "start_time": "2025-03-06T17:31:16.141460Z"
    }
   },
   "cell_type": "code",
   "source": [
    "print(df[[\"id\",\"Date\"]].duplicated().sum())\n",
    "df = df.drop_duplicates(subset=[\"id\", \"Date\"], keep='first')\n",
    "print(df[[\"id\",\"Date\"]].duplicated().sum())"
   ],
   "id": "3ef6f09356b472fd",
   "outputs": [
    {
     "name": "stdout",
     "output_type": "stream",
     "text": [
      "40\n",
      "0\n"
     ]
    }
   ],
   "execution_count": 44
  },
  {
   "metadata": {
    "ExecuteTime": {
     "end_time": "2025-03-06T17:31:17.932764Z",
     "start_time": "2025-03-06T17:31:17.923347Z"
    }
   },
   "cell_type": "code",
   "source": "df.to_csv(\"../data_processed/daily_lifelog/drinking.csv\",index=False)",
   "id": "b77d759db4722f2b",
   "outputs": [],
   "execution_count": 45
  }
 ],
 "metadata": {
  "kernelspec": {
   "display_name": "Python 3",
   "language": "python",
   "name": "python3"
  },
  "language_info": {
   "codemirror_mode": {
    "name": "ipython",
    "version": 2
   },
   "file_extension": ".py",
   "mimetype": "text/x-python",
   "name": "python",
   "nbconvert_exporter": "python",
   "pygments_lexer": "ipython2",
   "version": "2.7.6"
  }
 },
 "nbformat": 4,
 "nbformat_minor": 5
}
