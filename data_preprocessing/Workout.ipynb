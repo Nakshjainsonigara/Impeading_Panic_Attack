{
 "cells": [
  {
   "cell_type": "code",
   "id": "initial_id",
   "metadata": {
    "collapsed": true,
    "ExecuteTime": {
     "end_time": "2025-03-06T17:32:58.421629Z",
     "start_time": "2025-03-06T17:32:58.417673Z"
    }
   },
   "source": [
    "import numpy as np\n",
    "import pandas as pd"
   ],
   "outputs": [],
   "execution_count": 5
  },
  {
   "metadata": {
    "ExecuteTime": {
     "end_time": "2025-03-06T17:33:00.016852Z",
     "start_time": "2025-03-06T17:32:59.870243Z"
    }
   },
   "cell_type": "code",
   "source": [
    "df = pd.read_excel(\"../data/Dailylog data -lifelog/Lifestyle - Workouts.xlsx\")\n",
    "df.shape"
   ],
   "id": "162085f158337bcf",
   "outputs": [
    {
     "data": {
      "text/plain": [
       "(1385, 5)"
      ]
     },
     "execution_count": 6,
     "metadata": {},
     "output_type": "execute_result"
    }
   ],
   "execution_count": 6
  },
  {
   "metadata": {
    "ExecuteTime": {
     "end_time": "2025-03-06T17:33:01.389042Z",
     "start_time": "2025-03-06T17:33:01.383339Z"
    }
   },
   "cell_type": "code",
   "source": "df.rename(columns={\"Non-identifying keys\":\"id\"},inplace=True)",
   "id": "e1a4716303f908d1",
   "outputs": [],
   "execution_count": 7
  },
  {
   "metadata": {
    "ExecuteTime": {
     "end_time": "2025-03-06T17:54:29.797021Z",
     "start_time": "2025-03-06T17:54:29.780320Z"
    }
   },
   "cell_type": "code",
   "source": [
    "print(df[[\"id\",\"Date\"]].duplicated().sum())\n",
    "df = df.drop_duplicates(subset=[\"id\", \"Date\"], keep='first')\n",
    "print(df[[\"id\",\"Date\"]].duplicated().sum())"
   ],
   "id": "29d8f25415959d31",
   "outputs": [
    {
     "name": "stdout",
     "output_type": "stream",
     "text": [
      "153\n",
      "0\n"
     ]
    }
   ],
   "execution_count": 14
  },
  {
   "metadata": {
    "ExecuteTime": {
     "end_time": "2025-03-06T17:53:45.900999Z",
     "start_time": "2025-03-06T17:53:45.888989Z"
    }
   },
   "cell_type": "code",
   "source": "df[\"Workout types\"].unique()",
   "id": "ed21fbd05f8c21ba",
   "outputs": [
    {
     "data": {
      "text/plain": [
       "array(['Walking', 'Other (_x0008__x0008_Moving)',\n",
       "       'Other (_x0008__x0008_Sit-ups)', 'Jogging', 'Fitness (PT)',\n",
       "       'Hiking', 'Other (_x0008__x0008_Short Strength Training)',\n",
       "       'Other (_x0008__x0008_Sex)', 'Cycling',\n",
       "       'Ball Sports (e.g., Soccer, Basketball)',\n",
       "       'Other (_x0008__x0008_Bathing)', 'Stretching', 'Yoga (Pilates)',\n",
       "       'Various Dances', 'Swimming',\n",
       "       'Other (_x0008_Kettlebell Exercises)', 'Other (_x0008_10 Burpees)',\n",
       "       'Other (_x0008_Jumping Jacks)', 'Other (_x0008_Self-training)',\n",
       "       'Other (Badminton)',\n",
       "       'Other (10,000 stepsFitnessYoutubeFull body workout14 minutesFollowed)',\n",
       "       'Other (cardiocardio workoutcardio workout at home)',\n",
       "       'Other (Stray cat care cleaning)',\n",
       "       'Other (Cleaning and caring for companion animals)',\n",
       "       'Other (_x0008__x0008_Indoor bikes)', 'Other (Tennis)',\n",
       "       'Other (Running)', 'Other (Trekking)',\n",
       "       'Other (Treadmill, Running Speed 8)', 'Other (CrossFit)',\n",
       "       'Other (Labor)', 'Other (Physical Labor)',\n",
       "       'Other (Hard Manual Labor)', 'Other (_x0008__x0008_Work)',\n",
       "       'Other (Rowing Machine)'], dtype=object)"
      ]
     },
     "execution_count": 13,
     "metadata": {},
     "output_type": "execute_result"
    }
   ],
   "execution_count": 13
  },
  {
   "metadata": {
    "ExecuteTime": {
     "end_time": "2025-03-06T17:55:16.365666Z",
     "start_time": "2025-03-06T17:55:16.354666Z"
    }
   },
   "cell_type": "code",
   "source": "df.drop(columns=[\"When\",\"Workout types\"],inplace=True)",
   "id": "16eaa463f69d451a",
   "outputs": [
    {
     "name": "stderr",
     "output_type": "stream",
     "text": [
      "C:\\Users\\jainn\\AppData\\Local\\Temp\\ipykernel_6908\\3612895022.py:1: SettingWithCopyWarning: \n",
      "A value is trying to be set on a copy of a slice from a DataFrame\n",
      "\n",
      "See the caveats in the documentation: https://pandas.pydata.org/pandas-docs/stable/user_guide/indexing.html#returning-a-view-versus-a-copy\n",
      "  df.drop(columns=[\"When\",\"Workout types\"],inplace=True)\n"
     ]
    }
   ],
   "execution_count": 18
  },
  {
   "metadata": {
    "ExecuteTime": {
     "end_time": "2025-03-06T17:55:34.902533Z",
     "start_time": "2025-03-06T17:55:34.883003Z"
    }
   },
   "cell_type": "code",
   "source": "df.to_csv(\"../data_processed/daily_lifelog/workout.csv\",index=False)",
   "id": "d82398fc96569272",
   "outputs": [],
   "execution_count": 20
  }
 ],
 "metadata": {
  "kernelspec": {
   "display_name": "Python 3",
   "language": "python",
   "name": "python3"
  },
  "language_info": {
   "codemirror_mode": {
    "name": "ipython",
    "version": 2
   },
   "file_extension": ".py",
   "mimetype": "text/x-python",
   "name": "python",
   "nbconvert_exporter": "python",
   "pygments_lexer": "ipython2",
   "version": "2.7.6"
  }
 },
 "nbformat": 4,
 "nbformat_minor": 5
}
