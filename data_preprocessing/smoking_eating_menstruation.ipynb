{
 "cells": [
  {
   "cell_type": "code",
   "id": "initial_id",
   "metadata": {
    "collapsed": true,
    "ExecuteTime": {
     "end_time": "2025-03-03T18:20:09.213338Z",
     "start_time": "2025-03-03T18:20:08.850865Z"
    }
   },
   "source": [
    "import numpy as np\n",
    "import pandas as pd"
   ],
   "outputs": [],
   "execution_count": 1
  },
  {
   "metadata": {
    "ExecuteTime": {
     "end_time": "2025-03-03T18:28:19.896476Z",
     "start_time": "2025-03-03T18:28:19.756597Z"
    }
   },
   "cell_type": "code",
   "source": "df = pd.read_excel(\"../data/Dailylog data -lifelog/Lifestyle - Smoking, Eating, Menstruation.xlsx\")",
   "id": "f087d3f850e58d90",
   "outputs": [],
   "execution_count": 22
  },
  {
   "metadata": {
    "ExecuteTime": {
     "end_time": "2025-03-03T18:30:48.846846Z",
     "start_time": "2025-03-03T18:30:48.818457Z"
    }
   },
   "cell_type": "code",
   "source": "df",
   "id": "3d43e9d98675c218",
   "outputs": [
    {
     "data": {
      "text/plain": [
       "              id       Date  Amount smoked Breakfast Lunch Dinner  \\\n",
       "0     SYM2-1-278 2021-05-20            0.0         N     N      N   \n",
       "1     SYM2-1-288 2021-04-18            0.0         N     N      N   \n",
       "2     SYM2-1-292 2021-06-08            1.0         Y     N      N   \n",
       "3     SYM2-1-292 2021-06-07            4.0         N     Y      Y   \n",
       "4     SYM2-1-292 2021-06-06           10.0         N     Y      N   \n",
       "...          ...        ...            ...       ...   ...    ...   \n",
       "1338  SYM2-1-634 2023-09-23           20.0         N     Y      N   \n",
       "1339  SYM2-1-634 2023-09-21           20.0         N     Y      N   \n",
       "1340  SYM2-1-634 2023-09-20           20.0         N     Y      N   \n",
       "1341  SYM2-1-634 2023-09-18           20.0         N     Y      N   \n",
       "1342  SYM2-1-634 2023-09-17           20.0         N     N      Y   \n",
       "\n",
       "     Morning snack Afternoon snack Midnight snacks Menstruation  \n",
       "0                N               N               N            Y  \n",
       "1                N               N               N            Y  \n",
       "2                N               N               N            N  \n",
       "3                N               N               N            N  \n",
       "4                N               N               N            N  \n",
       "...            ...             ...             ...          ...  \n",
       "1338             N               N               N            N  \n",
       "1339             N               N               N            N  \n",
       "1340             N               N               Y            N  \n",
       "1341             N               N               N            N  \n",
       "1342             N               N               Y            N  \n",
       "\n",
       "[1343 rows x 10 columns]"
      ],
      "text/html": [
       "<div>\n",
       "<style scoped>\n",
       "    .dataframe tbody tr th:only-of-type {\n",
       "        vertical-align: middle;\n",
       "    }\n",
       "\n",
       "    .dataframe tbody tr th {\n",
       "        vertical-align: top;\n",
       "    }\n",
       "\n",
       "    .dataframe thead th {\n",
       "        text-align: right;\n",
       "    }\n",
       "</style>\n",
       "<table border=\"1\" class=\"dataframe\">\n",
       "  <thead>\n",
       "    <tr style=\"text-align: right;\">\n",
       "      <th></th>\n",
       "      <th>id</th>\n",
       "      <th>Date</th>\n",
       "      <th>Amount smoked</th>\n",
       "      <th>Breakfast</th>\n",
       "      <th>Lunch</th>\n",
       "      <th>Dinner</th>\n",
       "      <th>Morning snack</th>\n",
       "      <th>Afternoon snack</th>\n",
       "      <th>Midnight snacks</th>\n",
       "      <th>Menstruation</th>\n",
       "    </tr>\n",
       "  </thead>\n",
       "  <tbody>\n",
       "    <tr>\n",
       "      <th>0</th>\n",
       "      <td>SYM2-1-278</td>\n",
       "      <td>2021-05-20</td>\n",
       "      <td>0.0</td>\n",
       "      <td>N</td>\n",
       "      <td>N</td>\n",
       "      <td>N</td>\n",
       "      <td>N</td>\n",
       "      <td>N</td>\n",
       "      <td>N</td>\n",
       "      <td>Y</td>\n",
       "    </tr>\n",
       "    <tr>\n",
       "      <th>1</th>\n",
       "      <td>SYM2-1-288</td>\n",
       "      <td>2021-04-18</td>\n",
       "      <td>0.0</td>\n",
       "      <td>N</td>\n",
       "      <td>N</td>\n",
       "      <td>N</td>\n",
       "      <td>N</td>\n",
       "      <td>N</td>\n",
       "      <td>N</td>\n",
       "      <td>Y</td>\n",
       "    </tr>\n",
       "    <tr>\n",
       "      <th>2</th>\n",
       "      <td>SYM2-1-292</td>\n",
       "      <td>2021-06-08</td>\n",
       "      <td>1.0</td>\n",
       "      <td>Y</td>\n",
       "      <td>N</td>\n",
       "      <td>N</td>\n",
       "      <td>N</td>\n",
       "      <td>N</td>\n",
       "      <td>N</td>\n",
       "      <td>N</td>\n",
       "    </tr>\n",
       "    <tr>\n",
       "      <th>3</th>\n",
       "      <td>SYM2-1-292</td>\n",
       "      <td>2021-06-07</td>\n",
       "      <td>4.0</td>\n",
       "      <td>N</td>\n",
       "      <td>Y</td>\n",
       "      <td>Y</td>\n",
       "      <td>N</td>\n",
       "      <td>N</td>\n",
       "      <td>N</td>\n",
       "      <td>N</td>\n",
       "    </tr>\n",
       "    <tr>\n",
       "      <th>4</th>\n",
       "      <td>SYM2-1-292</td>\n",
       "      <td>2021-06-06</td>\n",
       "      <td>10.0</td>\n",
       "      <td>N</td>\n",
       "      <td>Y</td>\n",
       "      <td>N</td>\n",
       "      <td>N</td>\n",
       "      <td>N</td>\n",
       "      <td>N</td>\n",
       "      <td>N</td>\n",
       "    </tr>\n",
       "    <tr>\n",
       "      <th>...</th>\n",
       "      <td>...</td>\n",
       "      <td>...</td>\n",
       "      <td>...</td>\n",
       "      <td>...</td>\n",
       "      <td>...</td>\n",
       "      <td>...</td>\n",
       "      <td>...</td>\n",
       "      <td>...</td>\n",
       "      <td>...</td>\n",
       "      <td>...</td>\n",
       "    </tr>\n",
       "    <tr>\n",
       "      <th>1338</th>\n",
       "      <td>SYM2-1-634</td>\n",
       "      <td>2023-09-23</td>\n",
       "      <td>20.0</td>\n",
       "      <td>N</td>\n",
       "      <td>Y</td>\n",
       "      <td>N</td>\n",
       "      <td>N</td>\n",
       "      <td>N</td>\n",
       "      <td>N</td>\n",
       "      <td>N</td>\n",
       "    </tr>\n",
       "    <tr>\n",
       "      <th>1339</th>\n",
       "      <td>SYM2-1-634</td>\n",
       "      <td>2023-09-21</td>\n",
       "      <td>20.0</td>\n",
       "      <td>N</td>\n",
       "      <td>Y</td>\n",
       "      <td>N</td>\n",
       "      <td>N</td>\n",
       "      <td>N</td>\n",
       "      <td>N</td>\n",
       "      <td>N</td>\n",
       "    </tr>\n",
       "    <tr>\n",
       "      <th>1340</th>\n",
       "      <td>SYM2-1-634</td>\n",
       "      <td>2023-09-20</td>\n",
       "      <td>20.0</td>\n",
       "      <td>N</td>\n",
       "      <td>Y</td>\n",
       "      <td>N</td>\n",
       "      <td>N</td>\n",
       "      <td>N</td>\n",
       "      <td>Y</td>\n",
       "      <td>N</td>\n",
       "    </tr>\n",
       "    <tr>\n",
       "      <th>1341</th>\n",
       "      <td>SYM2-1-634</td>\n",
       "      <td>2023-09-18</td>\n",
       "      <td>20.0</td>\n",
       "      <td>N</td>\n",
       "      <td>Y</td>\n",
       "      <td>N</td>\n",
       "      <td>N</td>\n",
       "      <td>N</td>\n",
       "      <td>N</td>\n",
       "      <td>N</td>\n",
       "    </tr>\n",
       "    <tr>\n",
       "      <th>1342</th>\n",
       "      <td>SYM2-1-634</td>\n",
       "      <td>2023-09-17</td>\n",
       "      <td>20.0</td>\n",
       "      <td>N</td>\n",
       "      <td>N</td>\n",
       "      <td>Y</td>\n",
       "      <td>N</td>\n",
       "      <td>N</td>\n",
       "      <td>Y</td>\n",
       "      <td>N</td>\n",
       "    </tr>\n",
       "  </tbody>\n",
       "</table>\n",
       "<p>1343 rows × 10 columns</p>\n",
       "</div>"
      ]
     },
     "execution_count": 34,
     "metadata": {},
     "output_type": "execute_result"
    }
   ],
   "execution_count": 34
  },
  {
   "metadata": {
    "ExecuteTime": {
     "end_time": "2025-03-03T18:28:22.303358Z",
     "start_time": "2025-03-03T18:28:22.298328Z"
    }
   },
   "cell_type": "code",
   "source": "df.rename(columns={\"Non-identifying keys\":\"id\"},inplace=True)",
   "id": "71d81c42f0792d99",
   "outputs": [],
   "execution_count": 24
  },
  {
   "metadata": {
    "ExecuteTime": {
     "end_time": "2025-03-03T18:28:24.562233Z",
     "start_time": "2025-03-03T18:28:24.552924Z"
    }
   },
   "cell_type": "code",
   "source": "df.isna().sum()",
   "id": "f20911ffb43c75f9",
   "outputs": [
    {
     "data": {
      "text/plain": [
       "id                   0\n",
       "Date                 0\n",
       "Amount smoked      839\n",
       "Breakfast          868\n",
       "Lunch              868\n",
       "Dinner             868\n",
       "Morning snack      868\n",
       "Afternoon snack    868\n",
       "Midnight snacks    868\n",
       "Menstruation       477\n",
       "dtype: int64"
      ]
     },
     "execution_count": 25,
     "metadata": {},
     "output_type": "execute_result"
    }
   ],
   "execution_count": 25
  },
  {
   "metadata": {
    "ExecuteTime": {
     "end_time": "2025-03-03T18:28:26.717Z",
     "start_time": "2025-03-03T18:28:26.712058Z"
    }
   },
   "cell_type": "code",
   "source": "df[\"Amount smoked\"]=df[\"Amount smoked\"].fillna(0)",
   "id": "604744654125a1b1",
   "outputs": [],
   "execution_count": 26
  },
  {
   "metadata": {
    "ExecuteTime": {
     "end_time": "2025-03-03T18:28:28.206498Z",
     "start_time": "2025-03-03T18:28:28.198500Z"
    }
   },
   "cell_type": "code",
   "source": [
    "replacement = {pd.NA:\"N\"}\n",
    "df=df.replace(replacement)"
   ],
   "id": "d0981ad082f99601",
   "outputs": [],
   "execution_count": 27
  },
  {
   "metadata": {
    "ExecuteTime": {
     "end_time": "2025-03-03T18:28:29.989110Z",
     "start_time": "2025-03-03T18:28:29.981115Z"
    }
   },
   "cell_type": "code",
   "source": "df.isna().sum()",
   "id": "c45d9e516e697cf8",
   "outputs": [
    {
     "data": {
      "text/plain": [
       "id                 0\n",
       "Date               0\n",
       "Amount smoked      0\n",
       "Breakfast          0\n",
       "Lunch              0\n",
       "Dinner             0\n",
       "Morning snack      0\n",
       "Afternoon snack    0\n",
       "Midnight snacks    0\n",
       "Menstruation       0\n",
       "dtype: int64"
      ]
     },
     "execution_count": 28,
     "metadata": {},
     "output_type": "execute_result"
    }
   ],
   "execution_count": 28
  },
  {
   "metadata": {
    "ExecuteTime": {
     "end_time": "2025-03-03T18:28:59.602311Z",
     "start_time": "2025-03-03T18:28:59.592409Z"
    }
   },
   "cell_type": "code",
   "source": "df[[\"id\",\"Date\"]].duplicated().sum()",
   "id": "8fb308088f74edf",
   "outputs": [
    {
     "data": {
      "text/plain": [
       "np.int64(0)"
      ]
     },
     "execution_count": 32,
     "metadata": {},
     "output_type": "execute_result"
    }
   ],
   "execution_count": 32
  },
  {
   "metadata": {
    "ExecuteTime": {
     "end_time": "2025-03-03T18:29:32.891727Z",
     "start_time": "2025-03-03T18:29:32.872030Z"
    }
   },
   "cell_type": "code",
   "source": "df.to_csv(\"../data_processed/daily_lifelog/smoking_eating_mensuration.csv\",index=False)",
   "id": "eebb59a125165d85",
   "outputs": [],
   "execution_count": 33
  }
 ],
 "metadata": {
  "kernelspec": {
   "display_name": "Python 3",
   "language": "python",
   "name": "python3"
  },
  "language_info": {
   "codemirror_mode": {
    "name": "ipython",
    "version": 2
   },
   "file_extension": ".py",
   "mimetype": "text/x-python",
   "name": "python",
   "nbconvert_exporter": "python",
   "pygments_lexer": "ipython2",
   "version": "2.7.6"
  }
 },
 "nbformat": 4,
 "nbformat_minor": 5
}
