{
 "cells": [
  {
   "metadata": {
    "ExecuteTime": {
     "end_time": "2025-03-12T14:38:49.471560Z",
     "start_time": "2025-03-12T14:38:48.895735Z"
    }
   },
   "cell_type": "code",
   "source": [
    "import numpy as np\n",
    "import pandas as pd\n",
    "import re"
   ],
   "id": "78d2c8e73fc904ea",
   "outputs": [],
   "execution_count": 1
  },
  {
   "metadata": {
    "ExecuteTime": {
     "end_time": "2025-03-12T14:38:50.588094Z",
     "start_time": "2025-03-12T14:38:49.478576Z"
    }
   },
   "cell_type": "code",
   "source": "df = pd.read_excel(\"../data/Dailylog data -lifelog/Lifestyle - Sleep.xlsx\")",
   "id": "689c0ab8c9fde669",
   "outputs": [],
   "execution_count": 2
  },
  {
   "metadata": {
    "ExecuteTime": {
     "end_time": "2025-03-12T14:38:50.964624Z",
     "start_time": "2025-03-12T14:38:50.937157Z"
    }
   },
   "cell_type": "code",
   "source": [
    "df['Date'] = pd.to_datetime(df['Date'], format = '%Y-%m-%d %H:%M:%S')\n",
    "df['Bedtime'] = pd.to_datetime(df['Bedtime'], format = '%Y-%m-%d %H:%M:%S')\n",
    "df['Wake up time'] = pd.to_datetime(df['Wake up time'], format = '%Y-%m-%d %H:%M:%S')"
   ],
   "id": "8a046fc2ab2f27bf",
   "outputs": [],
   "execution_count": 3
  },
  {
   "metadata": {
    "ExecuteTime": {
     "end_time": "2025-03-12T14:38:50.982520Z",
     "start_time": "2025-03-12T14:38:50.977508Z"
    }
   },
   "cell_type": "code",
   "source": "df.rename(columns={\"Non-identifying keys\":\"id\",\"Measurement (-1: no value, 0: unknown sleep, 1: wake, 2: light sleep, 3: light sleep, 4: deep sleep)\":\"Measurement\"},inplace=True)",
   "id": "225e245b859a1bcb",
   "outputs": [],
   "execution_count": 4
  },
  {
   "metadata": {
    "ExecuteTime": {
     "end_time": "2025-03-12T14:38:51.017290Z",
     "start_time": "2025-03-12T14:38:51.003303Z"
    }
   },
   "cell_type": "code",
   "source": "df.isna().sum()",
   "id": "dec502f6648c2947",
   "outputs": [
    {
     "data": {
      "text/plain": [
       "id                   0\n",
       "Date                 0\n",
       "Measurement types    0\n",
       "Units of measure     0\n",
       "Measurement          0\n",
       "Bedtime              0\n",
       "Wake up time         0\n",
       "dtype: int64"
      ]
     },
     "execution_count": 5,
     "metadata": {},
     "output_type": "execute_result"
    }
   ],
   "execution_count": 5
  },
  {
   "metadata": {
    "ExecuteTime": {
     "end_time": "2025-03-12T14:38:52.583107Z",
     "start_time": "2025-03-12T14:38:51.243618Z"
    }
   },
   "cell_type": "code",
   "source": "df[\"Measurement\"] = df[\"Measurement\"].apply(lambda x: list(map(int, re.findall(r'\\d', x))))",
   "id": "433b73d744b345e2",
   "outputs": [],
   "execution_count": 6
  },
  {
   "metadata": {
    "ExecuteTime": {
     "end_time": "2025-03-12T14:38:53.735077Z",
     "start_time": "2025-03-12T14:38:52.635419Z"
    }
   },
   "cell_type": "code",
   "source": "df_exploded=df.explode(\"Measurement\")",
   "id": "9b32209d4876b9e6",
   "outputs": [],
   "execution_count": 7
  },
  {
   "metadata": {
    "ExecuteTime": {
     "end_time": "2025-03-12T14:38:54.782961Z",
     "start_time": "2025-03-12T14:38:53.742088Z"
    }
   },
   "cell_type": "code",
   "source": [
    "sleep_patterns=pd.pivot_table(\n",
    "    df_exploded,\n",
    "    index=[\"id\",\"Date\"],\n",
    "    columns=\"Measurement\",\n",
    "    aggfunc=\"size\",\n",
    "    fill_value=0\n",
    ")\n",
    "cols = {-1: \"no value\", 0: \"unknown sleep\", 1: \"wake\", 2: \"light sleep_1\", 3: \"light sleep_2\", 4: \"deep sleep\"}\n",
    "sleep_patterns.rename(columns=cols,inplace=True)"
   ],
   "id": "d56b26ffa6d62f3e",
   "outputs": [],
   "execution_count": 8
  },
  {
   "metadata": {
    "ExecuteTime": {
     "end_time": "2025-03-12T14:38:54.808765Z",
     "start_time": "2025-03-12T14:38:54.803275Z"
    }
   },
   "cell_type": "code",
   "source": "sleep_patterns.drop(columns=9,inplace=True)",
   "id": "52c7e96ebe2d5d46",
   "outputs": [],
   "execution_count": 9
  },
  {
   "metadata": {
    "ExecuteTime": {
     "end_time": "2025-03-12T14:38:54.859423Z",
     "start_time": "2025-03-12T14:38:54.845995Z"
    }
   },
   "cell_type": "code",
   "source": "df=pd.merge(df,sleep_patterns,on=[\"id\",\"Date\"])",
   "id": "d6fe773e1626a2cb",
   "outputs": [],
   "execution_count": 10
  },
  {
   "metadata": {
    "ExecuteTime": {
     "end_time": "2025-03-12T14:38:54.890334Z",
     "start_time": "2025-03-12T14:38:54.885859Z"
    }
   },
   "cell_type": "code",
   "source": "df.columns=df.columns.str.lower()",
   "id": "b8faf5fc2cb5c7c9",
   "outputs": [],
   "execution_count": 11
  },
  {
   "metadata": {
    "ExecuteTime": {
     "end_time": "2025-03-12T14:38:54.932373Z",
     "start_time": "2025-03-12T14:38:54.925189Z"
    }
   },
   "cell_type": "code",
   "source": "df[\"sleep_duration\"]=df[\"wake up time\"]-df[\"bedtime\"]",
   "id": "90174dbc35d43ce4",
   "outputs": [],
   "execution_count": 12
  },
  {
   "metadata": {
    "ExecuteTime": {
     "end_time": "2025-03-12T14:38:54.984405Z",
     "start_time": "2025-03-12T14:38:54.974944Z"
    }
   },
   "cell_type": "code",
   "source": "df[\"total_sleep_time\"]=df[\"unknown sleep\"]+df[\"light sleep_1\"]+df[\"light sleep_2\"]+df[\"deep sleep\"]",
   "id": "69d29dcde4f61aa1",
   "outputs": [],
   "execution_count": 13
  },
  {
   "metadata": {
    "ExecuteTime": {
     "end_time": "2025-03-12T14:38:55.023429Z",
     "start_time": "2025-03-12T14:38:55.015461Z"
    }
   },
   "cell_type": "code",
   "source": "df[\"sleep_efficiency\"]=(df[\"total_sleep_time\"]/df[\"sleep_duration\"].dt.total_seconds())*100",
   "id": "eac309c186a8a50",
   "outputs": [],
   "execution_count": 14
  },
  {
   "metadata": {
    "ExecuteTime": {
     "end_time": "2025-03-12T14:38:55.082830Z",
     "start_time": "2025-03-12T14:38:55.075696Z"
    }
   },
   "cell_type": "code",
   "source": "df[\"sleep_duration\"] = df[\"sleep_duration\"].dt.total_seconds()/3600",
   "id": "872efe06a966f7e2",
   "outputs": [],
   "execution_count": 15
  },
  {
   "metadata": {
    "ExecuteTime": {
     "end_time": "2025-03-12T14:38:55.113518Z",
     "start_time": "2025-03-12T14:38:55.103314Z"
    }
   },
   "cell_type": "code",
   "source": [
    "df[\"sleep_in\"]=df[\"date\"]-df[\"bedtime\"]\n",
    "df[\"sleep_out\"]=df[\"date\"]-df[\"wake up time\"]\n",
    "\n",
    "df[\"sleep_in\"]=df[\"sleep_in\"].dt.total_seconds()/3600\n",
    "df[\"sleep_out\"]=df[\"sleep_out\"].dt.total_seconds()/3600"
   ],
   "id": "eeda7b36853bdb85",
   "outputs": [],
   "execution_count": 16
  },
  {
   "metadata": {
    "ExecuteTime": {
     "end_time": "2025-03-12T14:38:55.158295Z",
     "start_time": "2025-03-12T14:38:55.137533Z"
    }
   },
   "cell_type": "code",
   "source": "df.drop(columns=[\"measurement\",\"units of measure\",\"measurement types\",\"total_sleep_time\",\"bedtime\",\"wake up time\"],inplace=True)",
   "id": "67ffb34130915571",
   "outputs": [],
   "execution_count": 17
  },
  {
   "metadata": {
    "ExecuteTime": {
     "end_time": "2025-03-12T14:38:55.194555Z",
     "start_time": "2025-03-12T14:38:55.179256Z"
    }
   },
   "cell_type": "code",
   "source": [
    "print(df[[\"id\",\"date\"]].duplicated().sum())\n",
    "df = df.drop_duplicates(subset=[\"id\", \"date\"], keep='first')\n",
    "print(df[[\"id\",\"date\"]].duplicated().sum())"
   ],
   "id": "d53846be86869f4a",
   "outputs": [
    {
     "name": "stdout",
     "output_type": "stream",
     "text": [
      "22\n",
      "0\n"
     ]
    }
   ],
   "execution_count": 18
  },
  {
   "metadata": {
    "ExecuteTime": {
     "end_time": "2025-03-12T14:38:55.320820Z",
     "start_time": "2025-03-12T14:38:55.302820Z"
    }
   },
   "cell_type": "code",
   "source": "df.set_index([\"id\",\"date\"],inplace=True)",
   "id": "bd943169294852cd",
   "outputs": [],
   "execution_count": 19
  },
  {
   "metadata": {
    "ExecuteTime": {
     "end_time": "2025-03-12T14:38:55.576670Z",
     "start_time": "2025-03-12T14:38:55.475387Z"
    }
   },
   "cell_type": "code",
   "source": [
    "df.columns=df.columns.str.lower()\n",
    "df.to_csv(\"../data_processed/daily_lifelog/sleep.csv\")"
   ],
   "id": "1f2a0759540cf20f",
   "outputs": [],
   "execution_count": 20
  }
 ],
 "metadata": {
  "kernelspec": {
   "display_name": "Python 3",
   "language": "python",
   "name": "python3"
  },
  "language_info": {
   "codemirror_mode": {
    "name": "ipython",
    "version": 2
   },
   "file_extension": ".py",
   "mimetype": "text/x-python",
   "name": "python",
   "nbconvert_exporter": "python",
   "pygments_lexer": "ipython2",
   "version": "2.7.6"
  }
 },
 "nbformat": 4,
 "nbformat_minor": 5
}
