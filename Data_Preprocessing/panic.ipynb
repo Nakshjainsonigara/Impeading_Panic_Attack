{
 "cells": [
  {
   "cell_type": "code",
   "id": "initial_id",
   "metadata": {
    "collapsed": true,
    "ExecuteTime": {
     "end_time": "2025-02-16T16:01:05.567107Z",
     "start_time": "2025-02-16T16:01:05.562873Z"
    }
   },
   "source": [
    "import numpy as np\n",
    "import pandas as pd"
   ],
   "outputs": [],
   "execution_count": 93
  },
  {
   "metadata": {
    "ExecuteTime": {
     "end_time": "2025-02-16T16:01:10.998614Z",
     "start_time": "2025-02-16T16:01:10.947549Z"
    }
   },
   "cell_type": "code",
   "source": "df = pd.read_excel(r\"C:\\Users\\jainn\\OneDrive\\Desktop\\case_study\\PythonProject\\Data_Preprocessing\\data\\Panic Diary (5).xlsx\")",
   "id": "208dfff361c0bea6",
   "outputs": [],
   "execution_count": 94
  },
  {
   "metadata": {
    "ExecuteTime": {
     "end_time": "2025-02-16T16:01:13.787123Z",
     "start_time": "2025-02-16T16:01:13.780116Z"
    }
   },
   "cell_type": "code",
   "source": "df.isna().sum()",
   "id": "625802c9dd059d07",
   "outputs": [
    {
     "data": {
      "text/plain": [
       "Non-identifying keys    0\n",
       "Date                    0\n",
       "Start time              0\n",
       "End time                0\n",
       "Duration                0\n",
       "Intensity               0\n",
       "Comorbidities           0\n",
       "dtype: int64"
      ]
     },
     "execution_count": 95,
     "metadata": {},
     "output_type": "execute_result"
    }
   ],
   "execution_count": 95
  },
  {
   "metadata": {
    "ExecuteTime": {
     "end_time": "2025-02-16T16:01:16.684298Z",
     "start_time": "2025-02-16T16:01:16.679805Z"
    }
   },
   "cell_type": "code",
   "source": "df.drop(columns=[\"End time\",\"Duration\",\"Intensity\",\"Comorbidities\",\"Start time\"],inplace=True)",
   "id": "bb09cdac27e4f6ec",
   "outputs": [],
   "execution_count": 96
  },
  {
   "metadata": {
    "ExecuteTime": {
     "end_time": "2025-02-16T15:36:21.253342Z",
     "start_time": "2025-02-16T15:36:21.247863Z"
    }
   },
   "cell_type": "code",
   "source": "df[\"panic\"]=0",
   "id": "198da7f8f6b980ee",
   "outputs": [],
   "execution_count": 73
  },
  {
   "metadata": {
    "ExecuteTime": {
     "end_time": "2025-02-16T15:36:22.867185Z",
     "start_time": "2025-02-16T15:36:22.861807Z"
    }
   },
   "cell_type": "code",
   "source": "panic_tommorow=df.copy()",
   "id": "6d4e969673f0583d",
   "outputs": [],
   "execution_count": 74
  },
  {
   "metadata": {
    "ExecuteTime": {
     "end_time": "2025-02-16T15:36:24.529217Z",
     "start_time": "2025-02-16T15:36:24.523671Z"
    }
   },
   "cell_type": "code",
   "source": "panic_tommorow[\"Date\"] = panic_tommorow[\"Date\"] - pd.Timedelta(days=1)",
   "id": "ff13aae7b3dd335e",
   "outputs": [],
   "execution_count": 75
  },
  {
   "metadata": {
    "ExecuteTime": {
     "end_time": "2025-02-16T15:36:26.708487Z",
     "start_time": "2025-02-16T15:36:26.702815Z"
    }
   },
   "cell_type": "code",
   "source": "panic_tommorow[\"panic\"]=1",
   "id": "64fc78534a19a3ff",
   "outputs": [],
   "execution_count": 76
  },
  {
   "metadata": {
    "ExecuteTime": {
     "end_time": "2025-02-16T15:36:28.304146Z",
     "start_time": "2025-02-16T15:36:28.298440Z"
    }
   },
   "cell_type": "code",
   "source": "panic_merge=pd.concat([df,panic_tommorow],ignore_index=True)",
   "id": "2b6335e6a941558",
   "outputs": [],
   "execution_count": 77
  },
  {
   "metadata": {
    "ExecuteTime": {
     "end_time": "2025-02-16T15:36:30.784215Z",
     "start_time": "2025-02-16T15:36:30.774051Z"
    }
   },
   "cell_type": "code",
   "source": "panic_merge.drop_duplicates([\"Date\",\"panic\"],keep=\"first\",inplace=True)",
   "id": "9799f598fa5cbde0",
   "outputs": [],
   "execution_count": 78
  },
  {
   "metadata": {
    "ExecuteTime": {
     "end_time": "2025-02-16T15:39:22.710687Z",
     "start_time": "2025-02-16T15:39:22.697708Z"
    }
   },
   "cell_type": "code",
   "source": "panic_merge.sort_values(by=\"panic\",ascending=False)",
   "id": "22894dbf96448bc3",
   "outputs": [
    {
     "data": {
      "text/plain": [
       "     Non-identifying keys       Date  panic\n",
       "1186           SYM2-1-634 2023-12-16      1\n",
       "1184           SYM2-1-634 2023-12-12      1\n",
       "1112           SYM2-1-634 2023-10-22      1\n",
       "1113           SYM2-1-634 2023-10-21      1\n",
       "1114           SYM2-1-634 2023-10-23      1\n",
       "...                   ...        ...    ...\n",
       "35             SYM2-1-301 2021-05-03      0\n",
       "36             SYM2-1-301 2021-05-09      0\n",
       "37             SYM2-1-301 2021-05-15      0\n",
       "38             SYM2-1-301 2021-05-20      0\n",
       "39             SYM2-1-301 2021-06-06      0\n",
       "\n",
       "[740 rows x 3 columns]"
      ],
      "text/html": [
       "<div>\n",
       "<style scoped>\n",
       "    .dataframe tbody tr th:only-of-type {\n",
       "        vertical-align: middle;\n",
       "    }\n",
       "\n",
       "    .dataframe tbody tr th {\n",
       "        vertical-align: top;\n",
       "    }\n",
       "\n",
       "    .dataframe thead th {\n",
       "        text-align: right;\n",
       "    }\n",
       "</style>\n",
       "<table border=\"1\" class=\"dataframe\">\n",
       "  <thead>\n",
       "    <tr style=\"text-align: right;\">\n",
       "      <th></th>\n",
       "      <th>Non-identifying keys</th>\n",
       "      <th>Date</th>\n",
       "      <th>panic</th>\n",
       "    </tr>\n",
       "  </thead>\n",
       "  <tbody>\n",
       "    <tr>\n",
       "      <th>1186</th>\n",
       "      <td>SYM2-1-634</td>\n",
       "      <td>2023-12-16</td>\n",
       "      <td>1</td>\n",
       "    </tr>\n",
       "    <tr>\n",
       "      <th>1184</th>\n",
       "      <td>SYM2-1-634</td>\n",
       "      <td>2023-12-12</td>\n",
       "      <td>1</td>\n",
       "    </tr>\n",
       "    <tr>\n",
       "      <th>1112</th>\n",
       "      <td>SYM2-1-634</td>\n",
       "      <td>2023-10-22</td>\n",
       "      <td>1</td>\n",
       "    </tr>\n",
       "    <tr>\n",
       "      <th>1113</th>\n",
       "      <td>SYM2-1-634</td>\n",
       "      <td>2023-10-21</td>\n",
       "      <td>1</td>\n",
       "    </tr>\n",
       "    <tr>\n",
       "      <th>1114</th>\n",
       "      <td>SYM2-1-634</td>\n",
       "      <td>2023-10-23</td>\n",
       "      <td>1</td>\n",
       "    </tr>\n",
       "    <tr>\n",
       "      <th>...</th>\n",
       "      <td>...</td>\n",
       "      <td>...</td>\n",
       "      <td>...</td>\n",
       "    </tr>\n",
       "    <tr>\n",
       "      <th>35</th>\n",
       "      <td>SYM2-1-301</td>\n",
       "      <td>2021-05-03</td>\n",
       "      <td>0</td>\n",
       "    </tr>\n",
       "    <tr>\n",
       "      <th>36</th>\n",
       "      <td>SYM2-1-301</td>\n",
       "      <td>2021-05-09</td>\n",
       "      <td>0</td>\n",
       "    </tr>\n",
       "    <tr>\n",
       "      <th>37</th>\n",
       "      <td>SYM2-1-301</td>\n",
       "      <td>2021-05-15</td>\n",
       "      <td>0</td>\n",
       "    </tr>\n",
       "    <tr>\n",
       "      <th>38</th>\n",
       "      <td>SYM2-1-301</td>\n",
       "      <td>2021-05-20</td>\n",
       "      <td>0</td>\n",
       "    </tr>\n",
       "    <tr>\n",
       "      <th>39</th>\n",
       "      <td>SYM2-1-301</td>\n",
       "      <td>2021-06-06</td>\n",
       "      <td>0</td>\n",
       "    </tr>\n",
       "  </tbody>\n",
       "</table>\n",
       "<p>740 rows × 3 columns</p>\n",
       "</div>"
      ]
     },
     "execution_count": 87,
     "metadata": {},
     "output_type": "execute_result"
    }
   ],
   "execution_count": 87
  },
  {
   "metadata": {
    "ExecuteTime": {
     "end_time": "2025-02-16T16:02:18.111251Z",
     "start_time": "2025-02-16T16:02:18.107407Z"
    }
   },
   "cell_type": "code",
   "source": "panic_merge.columns=['id', 'Date', 'panic']",
   "id": "887362422a863b57",
   "outputs": [],
   "execution_count": 100
  },
  {
   "metadata": {
    "ExecuteTime": {
     "end_time": "2025-02-16T16:02:30.261219Z",
     "start_time": "2025-02-16T16:02:30.253213Z"
    }
   },
   "cell_type": "code",
   "source": "panic_merge.to_csv(\"data_processed/panic.csv\", index=False)",
   "id": "599f8170dbac0046",
   "outputs": [],
   "execution_count": 101
  }
 ],
 "metadata": {
  "kernelspec": {
   "display_name": "Python 3",
   "language": "python",
   "name": "python3"
  },
  "language_info": {
   "codemirror_mode": {
    "name": "ipython",
    "version": 2
   },
   "file_extension": ".py",
   "mimetype": "text/x-python",
   "name": "python",
   "nbconvert_exporter": "python",
   "pygments_lexer": "ipython2",
   "version": "2.7.6"
  }
 },
 "nbformat": 4,
 "nbformat_minor": 5
}
