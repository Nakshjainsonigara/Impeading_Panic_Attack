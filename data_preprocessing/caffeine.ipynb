{
 "cells": [
  {
   "cell_type": "code",
   "id": "initial_id",
   "metadata": {
    "collapsed": true,
    "ExecuteTime": {
     "end_time": "2025-03-09T17:10:34.520310Z",
     "start_time": "2025-03-09T17:10:29.929166Z"
    }
   },
   "source": [
    "import numpy as np\n",
    "import pandas as pd"
   ],
   "outputs": [],
   "execution_count": 3
  },
  {
   "metadata": {
    "ExecuteTime": {
     "end_time": "2025-03-09T17:10:36.591680Z",
     "start_time": "2025-03-09T17:10:34.605352Z"
    }
   },
   "cell_type": "code",
   "source": [
    "df = pd.read_excel(\"../data/Dailylog data -lifelog/Lifestyle - Caffeine.xlsx\")\n",
    "df.shape"
   ],
   "id": "9de40a6f351eb8c9",
   "outputs": [
    {
     "data": {
      "text/plain": [
       "(2661, 6)"
      ]
     },
     "execution_count": 4,
     "metadata": {},
     "output_type": "execute_result"
    }
   ],
   "execution_count": 4
  },
  {
   "metadata": {
    "ExecuteTime": {
     "end_time": "2025-03-09T17:10:36.737590Z",
     "start_time": "2025-03-09T17:10:36.719815Z"
    }
   },
   "cell_type": "code",
   "source": "df.rename(columns={\"Non-identifying keys\":\"id\"},inplace=True)",
   "id": "7369f47c1de0a763",
   "outputs": [],
   "execution_count": 5
  },
  {
   "metadata": {
    "ExecuteTime": {
     "end_time": "2025-03-09T17:10:38.322316Z",
     "start_time": "2025-03-09T17:10:38.311840Z"
    }
   },
   "cell_type": "code",
   "source": "df.drop(columns=\"When\",inplace=True)",
   "id": "5b144b0253a96772",
   "outputs": [],
   "execution_count": 6
  },
  {
   "metadata": {
    "ExecuteTime": {
     "end_time": "2025-03-09T17:10:40.133804Z",
     "start_time": "2025-03-09T17:10:40.089117Z"
    }
   },
   "cell_type": "code",
   "source": "df",
   "id": "e47dfc63ac9c987",
   "outputs": [
    {
     "data": {
      "text/plain": [
       "              id       Date                                 Type  Intake  \\\n",
       "0     SYM2-1-101 2021-03-02  Carbonated beverages (such as Coke)       3   \n",
       "1     SYM2-1-285 2021-04-15              Coffee at a coffee shop       1   \n",
       "2     SYM2-1-285 2021-04-16              Coffee at a coffee shop       1   \n",
       "3     SYM2-1-285 2021-04-16              Coffee at a coffee shop       1   \n",
       "4     SYM2-1-285 2021-04-17              Coffee at a coffee shop       1   \n",
       "...          ...        ...                                  ...     ...   \n",
       "2656  SYM2-1-634 2023-12-12              Coffee at a coffee shop       2   \n",
       "2657  SYM2-1-634 2023-12-13              Coffee at a coffee shop       2   \n",
       "2658  SYM2-1-634 2023-12-13              Coffee at a coffee shop       2   \n",
       "2659  SYM2-1-634 2023-12-16              Coffee at a coffee shop       2   \n",
       "2660  SYM2-1-634 2023-12-16              Coffee at a coffee shop       2   \n",
       "\n",
       "                Unit  \n",
       "0      Glass (200ml)  \n",
       "1     Glass (1shots)  \n",
       "2     Glass (1shots)  \n",
       "3     Glass (1shots)  \n",
       "4     Glass (1shots)  \n",
       "...              ...  \n",
       "2656  Glass (1shots)  \n",
       "2657  Glass (1shots)  \n",
       "2658  Glass (1shots)  \n",
       "2659  Glass (1shots)  \n",
       "2660  Glass (1shots)  \n",
       "\n",
       "[2661 rows x 5 columns]"
      ],
      "text/html": [
       "<div>\n",
       "<style scoped>\n",
       "    .dataframe tbody tr th:only-of-type {\n",
       "        vertical-align: middle;\n",
       "    }\n",
       "\n",
       "    .dataframe tbody tr th {\n",
       "        vertical-align: top;\n",
       "    }\n",
       "\n",
       "    .dataframe thead th {\n",
       "        text-align: right;\n",
       "    }\n",
       "</style>\n",
       "<table border=\"1\" class=\"dataframe\">\n",
       "  <thead>\n",
       "    <tr style=\"text-align: right;\">\n",
       "      <th></th>\n",
       "      <th>id</th>\n",
       "      <th>Date</th>\n",
       "      <th>Type</th>\n",
       "      <th>Intake</th>\n",
       "      <th>Unit</th>\n",
       "    </tr>\n",
       "  </thead>\n",
       "  <tbody>\n",
       "    <tr>\n",
       "      <th>0</th>\n",
       "      <td>SYM2-1-101</td>\n",
       "      <td>2021-03-02</td>\n",
       "      <td>Carbonated beverages (such as Coke)</td>\n",
       "      <td>3</td>\n",
       "      <td>Glass (200ml)</td>\n",
       "    </tr>\n",
       "    <tr>\n",
       "      <th>1</th>\n",
       "      <td>SYM2-1-285</td>\n",
       "      <td>2021-04-15</td>\n",
       "      <td>Coffee at a coffee shop</td>\n",
       "      <td>1</td>\n",
       "      <td>Glass (1shots)</td>\n",
       "    </tr>\n",
       "    <tr>\n",
       "      <th>2</th>\n",
       "      <td>SYM2-1-285</td>\n",
       "      <td>2021-04-16</td>\n",
       "      <td>Coffee at a coffee shop</td>\n",
       "      <td>1</td>\n",
       "      <td>Glass (1shots)</td>\n",
       "    </tr>\n",
       "    <tr>\n",
       "      <th>3</th>\n",
       "      <td>SYM2-1-285</td>\n",
       "      <td>2021-04-16</td>\n",
       "      <td>Coffee at a coffee shop</td>\n",
       "      <td>1</td>\n",
       "      <td>Glass (1shots)</td>\n",
       "    </tr>\n",
       "    <tr>\n",
       "      <th>4</th>\n",
       "      <td>SYM2-1-285</td>\n",
       "      <td>2021-04-17</td>\n",
       "      <td>Coffee at a coffee shop</td>\n",
       "      <td>1</td>\n",
       "      <td>Glass (1shots)</td>\n",
       "    </tr>\n",
       "    <tr>\n",
       "      <th>...</th>\n",
       "      <td>...</td>\n",
       "      <td>...</td>\n",
       "      <td>...</td>\n",
       "      <td>...</td>\n",
       "      <td>...</td>\n",
       "    </tr>\n",
       "    <tr>\n",
       "      <th>2656</th>\n",
       "      <td>SYM2-1-634</td>\n",
       "      <td>2023-12-12</td>\n",
       "      <td>Coffee at a coffee shop</td>\n",
       "      <td>2</td>\n",
       "      <td>Glass (1shots)</td>\n",
       "    </tr>\n",
       "    <tr>\n",
       "      <th>2657</th>\n",
       "      <td>SYM2-1-634</td>\n",
       "      <td>2023-12-13</td>\n",
       "      <td>Coffee at a coffee shop</td>\n",
       "      <td>2</td>\n",
       "      <td>Glass (1shots)</td>\n",
       "    </tr>\n",
       "    <tr>\n",
       "      <th>2658</th>\n",
       "      <td>SYM2-1-634</td>\n",
       "      <td>2023-12-13</td>\n",
       "      <td>Coffee at a coffee shop</td>\n",
       "      <td>2</td>\n",
       "      <td>Glass (1shots)</td>\n",
       "    </tr>\n",
       "    <tr>\n",
       "      <th>2659</th>\n",
       "      <td>SYM2-1-634</td>\n",
       "      <td>2023-12-16</td>\n",
       "      <td>Coffee at a coffee shop</td>\n",
       "      <td>2</td>\n",
       "      <td>Glass (1shots)</td>\n",
       "    </tr>\n",
       "    <tr>\n",
       "      <th>2660</th>\n",
       "      <td>SYM2-1-634</td>\n",
       "      <td>2023-12-16</td>\n",
       "      <td>Coffee at a coffee shop</td>\n",
       "      <td>2</td>\n",
       "      <td>Glass (1shots)</td>\n",
       "    </tr>\n",
       "  </tbody>\n",
       "</table>\n",
       "<p>2661 rows × 5 columns</p>\n",
       "</div>"
      ]
     },
     "execution_count": 7,
     "metadata": {},
     "output_type": "execute_result"
    }
   ],
   "execution_count": 7
  },
  {
   "metadata": {
    "ExecuteTime": {
     "end_time": "2025-03-09T17:10:43.961325Z",
     "start_time": "2025-03-09T17:10:43.944340Z"
    }
   },
   "cell_type": "code",
   "source": [
    "for i in df[[\"Type\",\"Intake\",\"Unit\"]].columns:\n",
    "    print(i)\n",
    "    print(df[i].unique())"
   ],
   "id": "312ce05a6b3972bd",
   "outputs": [
    {
     "name": "stdout",
     "output_type": "stream",
     "text": [
      "Type\n",
      "['Carbonated beverages (such as Coke)' 'Coffee at a coffee shop'\n",
      " 'Capsule coffee' 'Other processed products (coffee milk, cocoa, etc.)'\n",
      " 'Instant coffee (vending machines, canned coffee, mixed coffee, etc.)'\n",
      " 'Energy drinks' 'Drip coffee' 'Tea type (green tea, black tea, etc.)'\n",
      " 'Other (decaffeinated coffee)' 'Nourishing tonic drinks (such as Bakkas)']\n",
      "Intake\n",
      "[ 3  1  2  4 40  5]\n",
      "Unit\n",
      "['Glass (200ml)' 'Glass (1shots)' 'Glass (Serving size)' 'Cans'\n",
      " 'Bottle (100ml)']\n"
     ]
    }
   ],
   "execution_count": 8
  },
  {
   "metadata": {
    "ExecuteTime": {
     "end_time": "2025-03-09T17:10:45.730576Z",
     "start_time": "2025-03-09T17:10:45.702996Z"
    }
   },
   "cell_type": "code",
   "source": [
    "mapping = {\n",
    "        \"Carbonated beverages (such as Coke)\": 10,\n",
    "        \"Coffee at a coffee shop\": 210,\n",
    "        \"Capsule coffee\": 80,\n",
    "        \"Other processed products (coffee milk, cocoa, etc.)\": 10,\n",
    "        \"Instant coffee (vending machines, canned coffee, mixed coffee, etc.)\": 50,\n",
    "        \"Energy drinks\": 32,\n",
    "        \"Drip coffee\": 40,\n",
    "        \"Tea type (green tea, black tea, etc.)\": 20,\n",
    "        \"Other (decaffeinated coffee)\": 3,\n",
    "        \"Nourishing tonic drinks (such as Bakkas)\": 50,\n",
    "        \"Glass (200ml)\": 200,\n",
    "        \"Glass (1shots)\": 30,\n",
    "        \"Glass (Serving size)\": 100,\n",
    "        \"Cans\": 250,\n",
    "        \"Bottle (100ml)\": 100\n",
    "}\n",
    "\n",
    "df.replace(mapping,inplace=True)"
   ],
   "id": "60d0d67abf2d48e0",
   "outputs": [
    {
     "name": "stderr",
     "output_type": "stream",
     "text": [
      "C:\\Users\\jainn\\AppData\\Local\\Temp\\ipykernel_21328\\3633239600.py:19: FutureWarning: Downcasting behavior in `replace` is deprecated and will be removed in a future version. To retain the old behavior, explicitly call `result.infer_objects(copy=False)`. To opt-in to the future behavior, set `pd.set_option('future.no_silent_downcasting', True)`\n",
      "  df.replace(mapping,inplace=True)\n"
     ]
    }
   ],
   "execution_count": 9
  },
  {
   "metadata": {
    "ExecuteTime": {
     "end_time": "2025-03-09T17:10:48.149602Z",
     "start_time": "2025-03-09T17:10:48.137326Z"
    }
   },
   "cell_type": "code",
   "source": "df",
   "id": "b15c2e6c0318bc39",
   "outputs": [
    {
     "data": {
      "text/plain": [
       "              id       Date  Type  Intake  Unit\n",
       "0     SYM2-1-101 2021-03-02    10       3   200\n",
       "1     SYM2-1-285 2021-04-15   210       1    30\n",
       "2     SYM2-1-285 2021-04-16   210       1    30\n",
       "3     SYM2-1-285 2021-04-16   210       1    30\n",
       "4     SYM2-1-285 2021-04-17   210       1    30\n",
       "...          ...        ...   ...     ...   ...\n",
       "2656  SYM2-1-634 2023-12-12   210       2    30\n",
       "2657  SYM2-1-634 2023-12-13   210       2    30\n",
       "2658  SYM2-1-634 2023-12-13   210       2    30\n",
       "2659  SYM2-1-634 2023-12-16   210       2    30\n",
       "2660  SYM2-1-634 2023-12-16   210       2    30\n",
       "\n",
       "[2661 rows x 5 columns]"
      ],
      "text/html": [
       "<div>\n",
       "<style scoped>\n",
       "    .dataframe tbody tr th:only-of-type {\n",
       "        vertical-align: middle;\n",
       "    }\n",
       "\n",
       "    .dataframe tbody tr th {\n",
       "        vertical-align: top;\n",
       "    }\n",
       "\n",
       "    .dataframe thead th {\n",
       "        text-align: right;\n",
       "    }\n",
       "</style>\n",
       "<table border=\"1\" class=\"dataframe\">\n",
       "  <thead>\n",
       "    <tr style=\"text-align: right;\">\n",
       "      <th></th>\n",
       "      <th>id</th>\n",
       "      <th>Date</th>\n",
       "      <th>Type</th>\n",
       "      <th>Intake</th>\n",
       "      <th>Unit</th>\n",
       "    </tr>\n",
       "  </thead>\n",
       "  <tbody>\n",
       "    <tr>\n",
       "      <th>0</th>\n",
       "      <td>SYM2-1-101</td>\n",
       "      <td>2021-03-02</td>\n",
       "      <td>10</td>\n",
       "      <td>3</td>\n",
       "      <td>200</td>\n",
       "    </tr>\n",
       "    <tr>\n",
       "      <th>1</th>\n",
       "      <td>SYM2-1-285</td>\n",
       "      <td>2021-04-15</td>\n",
       "      <td>210</td>\n",
       "      <td>1</td>\n",
       "      <td>30</td>\n",
       "    </tr>\n",
       "    <tr>\n",
       "      <th>2</th>\n",
       "      <td>SYM2-1-285</td>\n",
       "      <td>2021-04-16</td>\n",
       "      <td>210</td>\n",
       "      <td>1</td>\n",
       "      <td>30</td>\n",
       "    </tr>\n",
       "    <tr>\n",
       "      <th>3</th>\n",
       "      <td>SYM2-1-285</td>\n",
       "      <td>2021-04-16</td>\n",
       "      <td>210</td>\n",
       "      <td>1</td>\n",
       "      <td>30</td>\n",
       "    </tr>\n",
       "    <tr>\n",
       "      <th>4</th>\n",
       "      <td>SYM2-1-285</td>\n",
       "      <td>2021-04-17</td>\n",
       "      <td>210</td>\n",
       "      <td>1</td>\n",
       "      <td>30</td>\n",
       "    </tr>\n",
       "    <tr>\n",
       "      <th>...</th>\n",
       "      <td>...</td>\n",
       "      <td>...</td>\n",
       "      <td>...</td>\n",
       "      <td>...</td>\n",
       "      <td>...</td>\n",
       "    </tr>\n",
       "    <tr>\n",
       "      <th>2656</th>\n",
       "      <td>SYM2-1-634</td>\n",
       "      <td>2023-12-12</td>\n",
       "      <td>210</td>\n",
       "      <td>2</td>\n",
       "      <td>30</td>\n",
       "    </tr>\n",
       "    <tr>\n",
       "      <th>2657</th>\n",
       "      <td>SYM2-1-634</td>\n",
       "      <td>2023-12-13</td>\n",
       "      <td>210</td>\n",
       "      <td>2</td>\n",
       "      <td>30</td>\n",
       "    </tr>\n",
       "    <tr>\n",
       "      <th>2658</th>\n",
       "      <td>SYM2-1-634</td>\n",
       "      <td>2023-12-13</td>\n",
       "      <td>210</td>\n",
       "      <td>2</td>\n",
       "      <td>30</td>\n",
       "    </tr>\n",
       "    <tr>\n",
       "      <th>2659</th>\n",
       "      <td>SYM2-1-634</td>\n",
       "      <td>2023-12-16</td>\n",
       "      <td>210</td>\n",
       "      <td>2</td>\n",
       "      <td>30</td>\n",
       "    </tr>\n",
       "    <tr>\n",
       "      <th>2660</th>\n",
       "      <td>SYM2-1-634</td>\n",
       "      <td>2023-12-16</td>\n",
       "      <td>210</td>\n",
       "      <td>2</td>\n",
       "      <td>30</td>\n",
       "    </tr>\n",
       "  </tbody>\n",
       "</table>\n",
       "<p>2661 rows × 5 columns</p>\n",
       "</div>"
      ]
     },
     "execution_count": 10,
     "metadata": {},
     "output_type": "execute_result"
    }
   ],
   "execution_count": 10
  },
  {
   "metadata": {
    "ExecuteTime": {
     "end_time": "2025-03-09T17:10:50.064320Z",
     "start_time": "2025-03-09T17:10:49.996223Z"
    }
   },
   "cell_type": "code",
   "source": [
    "def cal_tol_caffeine(df):\n",
    "        return ((df[\"Type\"]*df[\"Unit\"])/100)*df[\"Intake\"]\n",
    "\n",
    "df[\"total_caffeine\"]=df.apply(cal_tol_caffeine,axis=1)"
   ],
   "id": "8b59e47af77a116c",
   "outputs": [],
   "execution_count": 11
  },
  {
   "metadata": {
    "ExecuteTime": {
     "end_time": "2025-03-09T17:10:53.657357Z",
     "start_time": "2025-03-09T17:10:53.650359Z"
    }
   },
   "cell_type": "code",
   "source": "df.drop(columns=[\"Type\",\"Intake\",\"Unit\"],inplace=True)",
   "id": "9b9c47060dfd86b3",
   "outputs": [],
   "execution_count": 12
  },
  {
   "metadata": {
    "ExecuteTime": {
     "end_time": "2025-03-09T17:10:55.097739Z",
     "start_time": "2025-03-09T17:10:55.084218Z"
    }
   },
   "cell_type": "code",
   "source": [
    "print(df[[\"id\",\"Date\"]].duplicated().sum())\n",
    "df = df.drop_duplicates(subset=[\"id\", \"Date\"], keep='first')\n",
    "print(df[[\"id\",\"Date\"]].duplicated().sum())"
   ],
   "id": "c3902192e1f134f7",
   "outputs": [
    {
     "name": "stdout",
     "output_type": "stream",
     "text": [
      "508\n",
      "0\n"
     ]
    }
   ],
   "execution_count": 13
  },
  {
   "metadata": {
    "ExecuteTime": {
     "end_time": "2025-03-09T17:10:57.144969Z",
     "start_time": "2025-03-09T17:10:57.138898Z"
    }
   },
   "cell_type": "code",
   "source": "print(df.shape)",
   "id": "d288a4273ca04247",
   "outputs": [
    {
     "name": "stdout",
     "output_type": "stream",
     "text": [
      "(2153, 3)\n"
     ]
    }
   ],
   "execution_count": 14
  },
  {
   "metadata": {
    "ExecuteTime": {
     "end_time": "2025-03-09T17:10:58.487371Z",
     "start_time": "2025-03-09T17:10:58.463833Z"
    }
   },
   "cell_type": "code",
   "source": "df.to_csv(\"../data_processed/daily_lifelog/caffeine.csv\",index=False)",
   "id": "583aee37144a7a46",
   "outputs": [],
   "execution_count": 15
  }
 ],
 "metadata": {
  "kernelspec": {
   "display_name": "Python 3",
   "language": "python",
   "name": "python3"
  },
  "language_info": {
   "codemirror_mode": {
    "name": "ipython",
    "version": 2
   },
   "file_extension": ".py",
   "mimetype": "text/x-python",
   "name": "python",
   "nbconvert_exporter": "python",
   "pygments_lexer": "ipython2",
   "version": "2.7.6"
  }
 },
 "nbformat": 4,
 "nbformat_minor": 5
}
