{
 "cells": [
  {
   "cell_type": "code",
   "id": "initial_id",
   "metadata": {
    "collapsed": true,
    "ExecuteTime": {
     "end_time": "2025-03-03T18:58:17.088341Z",
     "start_time": "2025-03-03T18:58:17.083342Z"
    }
   },
   "source": [
    "import numpy as np\n",
    "import pandas as pd"
   ],
   "outputs": [],
   "execution_count": 31
  },
  {
   "metadata": {
    "ExecuteTime": {
     "end_time": "2025-03-03T18:58:18.907865Z",
     "start_time": "2025-03-03T18:58:18.283476Z"
    }
   },
   "cell_type": "code",
   "source": "df = pd.read_excel(r\"../data/Dailylog data -lifelog/Emotion Diary.xlsx\")",
   "id": "b2723f6bbc005efb",
   "outputs": [],
   "execution_count": 32
  },
  {
   "metadata": {
    "ExecuteTime": {
     "end_time": "2025-03-03T18:58:19.706326Z",
     "start_time": "2025-03-03T18:58:19.700858Z"
    }
   },
   "cell_type": "code",
   "source": "df.rename(columns={\"Non-identifying keys\":\"id\"},inplace=True)",
   "id": "9920fa5f9969567f",
   "outputs": [],
   "execution_count": 33
  },
  {
   "metadata": {
    "ExecuteTime": {
     "end_time": "2025-03-03T18:58:21.033104Z",
     "start_time": "2025-03-03T18:58:21.023104Z"
    }
   },
   "cell_type": "code",
   "source": "df=df[[\"id\",\"Date\"]].drop_duplicates(keep=\"first\")",
   "id": "452e9f75ff2332a",
   "outputs": [],
   "execution_count": 34
  },
  {
   "metadata": {
    "ExecuteTime": {
     "end_time": "2025-03-03T18:58:22.062177Z",
     "start_time": "2025-03-03T18:58:22.037653Z"
    }
   },
   "cell_type": "code",
   "source": "df.to_csv(\"../data_processed/daily_lifelog/emotion_diary.csv\",index=False)",
   "id": "cdbf70d3e90859ad",
   "outputs": [],
   "execution_count": 35
  }
 ],
 "metadata": {
  "kernelspec": {
   "display_name": "Python 3",
   "language": "python",
   "name": "python3"
  },
  "language_info": {
   "codemirror_mode": {
    "name": "ipython",
    "version": 2
   },
   "file_extension": ".py",
   "mimetype": "text/x-python",
   "name": "python",
   "nbconvert_exporter": "python",
   "pygments_lexer": "ipython2",
   "version": "2.7.6"
  }
 },
 "nbformat": 4,
 "nbformat_minor": 5
}
