{
 "cells": [
  {
   "cell_type": "code",
   "id": "initial_id",
   "metadata": {
    "collapsed": true,
    "ExecuteTime": {
     "end_time": "2025-03-12T14:10:55.276070Z",
     "start_time": "2025-03-12T14:10:55.267572Z"
    }
   },
   "source": [
    "import numpy as np\n",
    "import pandas as pd\n",
    "import warnings\n",
    "warnings.filterwarnings(\"ignore\")"
   ],
   "outputs": [],
   "execution_count": 13
  },
  {
   "metadata": {
    "ExecuteTime": {
     "end_time": "2025-03-12T14:10:56.110437Z",
     "start_time": "2025-03-12T14:10:55.311619Z"
    }
   },
   "cell_type": "code",
   "source": [
    "df = pd.read_excel(\"../data/Dailylog data -lifelog/Lifestyle - Caffeine.xlsx\")\n",
    "df.shape"
   ],
   "id": "9de40a6f351eb8c9",
   "outputs": [
    {
     "data": {
      "text/plain": [
       "(2661, 6)"
      ]
     },
     "execution_count": 14,
     "metadata": {},
     "output_type": "execute_result"
    }
   ],
   "execution_count": 14
  },
  {
   "metadata": {
    "ExecuteTime": {
     "end_time": "2025-03-12T14:10:56.228771Z",
     "start_time": "2025-03-12T14:10:56.215904Z"
    }
   },
   "cell_type": "code",
   "source": "df.rename(columns={\"Non-identifying keys\":\"id\"},inplace=True)",
   "id": "7369f47c1de0a763",
   "outputs": [],
   "execution_count": 15
  },
  {
   "metadata": {
    "ExecuteTime": {
     "end_time": "2025-03-12T14:10:56.373487Z",
     "start_time": "2025-03-12T14:10:56.316999Z"
    }
   },
   "cell_type": "code",
   "source": "df",
   "id": "d3a84b1272c8ccbb",
   "outputs": [
    {
     "data": {
      "text/plain": [
       "              id       Date     When                                 Type  \\\n",
       "0     SYM2-1-101 2021-03-02       PM  Carbonated beverages (such as Coke)   \n",
       "1     SYM2-1-285 2021-04-15       PM              Coffee at a coffee shop   \n",
       "2     SYM2-1-285 2021-04-16       AM              Coffee at a coffee shop   \n",
       "3     SYM2-1-285 2021-04-16       PM              Coffee at a coffee shop   \n",
       "4     SYM2-1-285 2021-04-17       AM              Coffee at a coffee shop   \n",
       "...          ...        ...      ...                                  ...   \n",
       "2656  SYM2-1-634 2023-12-12  Evening              Coffee at a coffee shop   \n",
       "2657  SYM2-1-634 2023-12-13       PM              Coffee at a coffee shop   \n",
       "2658  SYM2-1-634 2023-12-13  Evening              Coffee at a coffee shop   \n",
       "2659  SYM2-1-634 2023-12-16       PM              Coffee at a coffee shop   \n",
       "2660  SYM2-1-634 2023-12-16  Evening              Coffee at a coffee shop   \n",
       "\n",
       "      Intake            Unit  \n",
       "0          3   Glass (200ml)  \n",
       "1          1  Glass (1shots)  \n",
       "2          1  Glass (1shots)  \n",
       "3          1  Glass (1shots)  \n",
       "4          1  Glass (1shots)  \n",
       "...      ...             ...  \n",
       "2656       2  Glass (1shots)  \n",
       "2657       2  Glass (1shots)  \n",
       "2658       2  Glass (1shots)  \n",
       "2659       2  Glass (1shots)  \n",
       "2660       2  Glass (1shots)  \n",
       "\n",
       "[2661 rows x 6 columns]"
      ],
      "text/html": [
       "<div>\n",
       "<style scoped>\n",
       "    .dataframe tbody tr th:only-of-type {\n",
       "        vertical-align: middle;\n",
       "    }\n",
       "\n",
       "    .dataframe tbody tr th {\n",
       "        vertical-align: top;\n",
       "    }\n",
       "\n",
       "    .dataframe thead th {\n",
       "        text-align: right;\n",
       "    }\n",
       "</style>\n",
       "<table border=\"1\" class=\"dataframe\">\n",
       "  <thead>\n",
       "    <tr style=\"text-align: right;\">\n",
       "      <th></th>\n",
       "      <th>id</th>\n",
       "      <th>Date</th>\n",
       "      <th>When</th>\n",
       "      <th>Type</th>\n",
       "      <th>Intake</th>\n",
       "      <th>Unit</th>\n",
       "    </tr>\n",
       "  </thead>\n",
       "  <tbody>\n",
       "    <tr>\n",
       "      <th>0</th>\n",
       "      <td>SYM2-1-101</td>\n",
       "      <td>2021-03-02</td>\n",
       "      <td>PM</td>\n",
       "      <td>Carbonated beverages (such as Coke)</td>\n",
       "      <td>3</td>\n",
       "      <td>Glass (200ml)</td>\n",
       "    </tr>\n",
       "    <tr>\n",
       "      <th>1</th>\n",
       "      <td>SYM2-1-285</td>\n",
       "      <td>2021-04-15</td>\n",
       "      <td>PM</td>\n",
       "      <td>Coffee at a coffee shop</td>\n",
       "      <td>1</td>\n",
       "      <td>Glass (1shots)</td>\n",
       "    </tr>\n",
       "    <tr>\n",
       "      <th>2</th>\n",
       "      <td>SYM2-1-285</td>\n",
       "      <td>2021-04-16</td>\n",
       "      <td>AM</td>\n",
       "      <td>Coffee at a coffee shop</td>\n",
       "      <td>1</td>\n",
       "      <td>Glass (1shots)</td>\n",
       "    </tr>\n",
       "    <tr>\n",
       "      <th>3</th>\n",
       "      <td>SYM2-1-285</td>\n",
       "      <td>2021-04-16</td>\n",
       "      <td>PM</td>\n",
       "      <td>Coffee at a coffee shop</td>\n",
       "      <td>1</td>\n",
       "      <td>Glass (1shots)</td>\n",
       "    </tr>\n",
       "    <tr>\n",
       "      <th>4</th>\n",
       "      <td>SYM2-1-285</td>\n",
       "      <td>2021-04-17</td>\n",
       "      <td>AM</td>\n",
       "      <td>Coffee at a coffee shop</td>\n",
       "      <td>1</td>\n",
       "      <td>Glass (1shots)</td>\n",
       "    </tr>\n",
       "    <tr>\n",
       "      <th>...</th>\n",
       "      <td>...</td>\n",
       "      <td>...</td>\n",
       "      <td>...</td>\n",
       "      <td>...</td>\n",
       "      <td>...</td>\n",
       "      <td>...</td>\n",
       "    </tr>\n",
       "    <tr>\n",
       "      <th>2656</th>\n",
       "      <td>SYM2-1-634</td>\n",
       "      <td>2023-12-12</td>\n",
       "      <td>Evening</td>\n",
       "      <td>Coffee at a coffee shop</td>\n",
       "      <td>2</td>\n",
       "      <td>Glass (1shots)</td>\n",
       "    </tr>\n",
       "    <tr>\n",
       "      <th>2657</th>\n",
       "      <td>SYM2-1-634</td>\n",
       "      <td>2023-12-13</td>\n",
       "      <td>PM</td>\n",
       "      <td>Coffee at a coffee shop</td>\n",
       "      <td>2</td>\n",
       "      <td>Glass (1shots)</td>\n",
       "    </tr>\n",
       "    <tr>\n",
       "      <th>2658</th>\n",
       "      <td>SYM2-1-634</td>\n",
       "      <td>2023-12-13</td>\n",
       "      <td>Evening</td>\n",
       "      <td>Coffee at a coffee shop</td>\n",
       "      <td>2</td>\n",
       "      <td>Glass (1shots)</td>\n",
       "    </tr>\n",
       "    <tr>\n",
       "      <th>2659</th>\n",
       "      <td>SYM2-1-634</td>\n",
       "      <td>2023-12-16</td>\n",
       "      <td>PM</td>\n",
       "      <td>Coffee at a coffee shop</td>\n",
       "      <td>2</td>\n",
       "      <td>Glass (1shots)</td>\n",
       "    </tr>\n",
       "    <tr>\n",
       "      <th>2660</th>\n",
       "      <td>SYM2-1-634</td>\n",
       "      <td>2023-12-16</td>\n",
       "      <td>Evening</td>\n",
       "      <td>Coffee at a coffee shop</td>\n",
       "      <td>2</td>\n",
       "      <td>Glass (1shots)</td>\n",
       "    </tr>\n",
       "  </tbody>\n",
       "</table>\n",
       "<p>2661 rows × 6 columns</p>\n",
       "</div>"
      ]
     },
     "execution_count": 16,
     "metadata": {},
     "output_type": "execute_result"
    }
   ],
   "execution_count": 16
  },
  {
   "metadata": {
    "ExecuteTime": {
     "end_time": "2025-03-12T14:10:56.698357Z",
     "start_time": "2025-03-12T14:10:56.634900Z"
    }
   },
   "cell_type": "code",
   "source": [
    "for i in df[[\"Type\",\"Intake\",\"Unit\"]].columns:\n",
    "    print(i)\n",
    "    print(df[i].unique())"
   ],
   "id": "312ce05a6b3972bd",
   "outputs": [
    {
     "name": "stdout",
     "output_type": "stream",
     "text": [
      "Type\n",
      "['Carbonated beverages (such as Coke)' 'Coffee at a coffee shop'\n",
      " 'Capsule coffee' 'Other processed products (coffee milk, cocoa, etc.)'\n",
      " 'Instant coffee (vending machines, canned coffee, mixed coffee, etc.)'\n",
      " 'Energy drinks' 'Drip coffee' 'Tea type (green tea, black tea, etc.)'\n",
      " 'Other (decaffeinated coffee)' 'Nourishing tonic drinks (such as Bakkas)']\n",
      "Intake\n",
      "[ 3  1  2  4 40  5]\n",
      "Unit\n",
      "['Glass (200ml)' 'Glass (1shots)' 'Glass (Serving size)' 'Cans'\n",
      " 'Bottle (100ml)']\n"
     ]
    }
   ],
   "execution_count": 17
  },
  {
   "metadata": {
    "ExecuteTime": {
     "end_time": "2025-03-12T14:10:56.935791Z",
     "start_time": "2025-03-12T14:10:56.885385Z"
    }
   },
   "cell_type": "code",
   "source": [
    "mapping = {\n",
    "        \"Carbonated beverages (such as Coke)\": 10,\n",
    "        \"Coffee at a coffee shop\": 210,\n",
    "        \"Capsule coffee\": 80,\n",
    "        \"Other processed products (coffee milk, cocoa, etc.)\": 10,\n",
    "        \"Instant coffee (vending machines, canned coffee, mixed coffee, etc.)\": 50,\n",
    "        \"Energy drinks\": 32,\n",
    "        \"Drip coffee\": 40,\n",
    "        \"Tea type (green tea, black tea, etc.)\": 20,\n",
    "        \"Other (decaffeinated coffee)\": 3,\n",
    "        \"Nourishing tonic drinks (such as Bakkas)\": 50,\n",
    "        \"Glass (200ml)\": 200,\n",
    "        \"Glass (1shots)\": 30,\n",
    "        \"Glass (Serving size)\": 100,\n",
    "        \"Cans\": 250,\n",
    "        \"Bottle (100ml)\": 100\n",
    "}\n",
    "\n",
    "df.replace(mapping,inplace=True)"
   ],
   "id": "60d0d67abf2d48e0",
   "outputs": [],
   "execution_count": 18
  },
  {
   "metadata": {
    "ExecuteTime": {
     "end_time": "2025-03-12T14:10:57.257432Z",
     "start_time": "2025-03-12T14:10:57.153197Z"
    }
   },
   "cell_type": "code",
   "source": [
    "def cal_tol_caffeine(df):\n",
    "        return ((df[\"Type\"]*df[\"Unit\"])/100)*df[\"Intake\"]\n",
    "\n",
    "df[\"total_caffeine\"]=df.apply(cal_tol_caffeine,axis=1)"
   ],
   "id": "8b59e47af77a116c",
   "outputs": [],
   "execution_count": 19
  },
  {
   "metadata": {
    "ExecuteTime": {
     "end_time": "2025-03-12T14:10:57.391217Z",
     "start_time": "2025-03-12T14:10:57.377356Z"
    }
   },
   "cell_type": "code",
   "source": "df.drop(columns=[\"When\",\"Type\",\"Intake\",\"Unit\"],inplace=True)",
   "id": "9b9c47060dfd86b3",
   "outputs": [],
   "execution_count": 20
  },
  {
   "metadata": {
    "ExecuteTime": {
     "end_time": "2025-03-12T14:10:57.509699Z",
     "start_time": "2025-03-12T14:10:57.475452Z"
    }
   },
   "cell_type": "code",
   "source": [
    "print(df[[\"id\",\"Date\"]].duplicated().sum())\n",
    "df = df.drop_duplicates(subset=[\"id\", \"Date\"], keep='first')\n",
    "print(df[[\"id\",\"Date\"]].duplicated().sum())"
   ],
   "id": "c3902192e1f134f7",
   "outputs": [
    {
     "name": "stdout",
     "output_type": "stream",
     "text": [
      "508\n",
      "0\n"
     ]
    }
   ],
   "execution_count": 21
  },
  {
   "metadata": {
    "ExecuteTime": {
     "end_time": "2025-03-12T14:10:57.638461Z",
     "start_time": "2025-03-12T14:10:57.626460Z"
    }
   },
   "cell_type": "code",
   "source": "print(df.shape)",
   "id": "d288a4273ca04247",
   "outputs": [
    {
     "name": "stdout",
     "output_type": "stream",
     "text": [
      "(2153, 3)\n"
     ]
    }
   ],
   "execution_count": 22
  },
  {
   "metadata": {
    "ExecuteTime": {
     "end_time": "2025-03-12T14:10:57.844328Z",
     "start_time": "2025-03-12T14:10:57.802842Z"
    }
   },
   "cell_type": "code",
   "source": [
    "df.columns=df.columns.str.lower()\n",
    "df.to_csv(\"../data_processed/daily_lifelog/caffeine.csv\",index=False)"
   ],
   "id": "583aee37144a7a46",
   "outputs": [],
   "execution_count": 23
  }
 ],
 "metadata": {
  "kernelspec": {
   "display_name": "Python 3",
   "language": "python",
   "name": "python3"
  },
  "language_info": {
   "codemirror_mode": {
    "name": "ipython",
    "version": 2
   },
   "file_extension": ".py",
   "mimetype": "text/x-python",
   "name": "python",
   "nbconvert_exporter": "python",
   "pygments_lexer": "ipython2",
   "version": "2.7.6"
  }
 },
 "nbformat": 4,
 "nbformat_minor": 5
}
