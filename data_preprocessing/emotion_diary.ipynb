{
 "cells": [
  {
   "cell_type": "code",
   "id": "initial_id",
   "metadata": {
    "collapsed": true,
    "ExecuteTime": {
     "end_time": "2025-03-06T17:31:26.105743Z",
     "start_time": "2025-03-06T17:31:26.101391Z"
    }
   },
   "source": [
    "import numpy as np\n",
    "import pandas as pd"
   ],
   "outputs": [],
   "execution_count": 9
  },
  {
   "metadata": {
    "ExecuteTime": {
     "end_time": "2025-03-06T17:31:28.304339Z",
     "start_time": "2025-03-06T17:31:27.714523Z"
    }
   },
   "cell_type": "code",
   "source": "df = pd.read_excel(r\"../data/Dailylog data -lifelog/Emotion Diary.xlsx\")",
   "id": "b2723f6bbc005efb",
   "outputs": [],
   "execution_count": 10
  },
  {
   "metadata": {
    "ExecuteTime": {
     "end_time": "2025-03-06T17:31:29.440565Z",
     "start_time": "2025-03-06T17:31:29.435495Z"
    }
   },
   "cell_type": "code",
   "source": "df.rename(columns={\"Non-identifying keys\":\"id\"},inplace=True)",
   "id": "9920fa5f9969567f",
   "outputs": [],
   "execution_count": 11
  },
  {
   "metadata": {
    "ExecuteTime": {
     "end_time": "2025-03-06T17:31:31.273571Z",
     "start_time": "2025-03-06T17:31:31.258621Z"
    }
   },
   "cell_type": "code",
   "source": [
    "print(df[[\"id\",\"Date\"]].duplicated().sum())\n",
    "df = df.drop_duplicates(subset=[\"id\", \"Date\"], keep='first')\n",
    "print(df[[\"id\",\"Date\"]].duplicated().sum())"
   ],
   "id": "452e9f75ff2332a",
   "outputs": [
    {
     "name": "stdout",
     "output_type": "stream",
     "text": [
      "5\n",
      "0\n"
     ]
    }
   ],
   "execution_count": 12
  },
  {
   "metadata": {
    "ExecuteTime": {
     "end_time": "2025-03-06T17:31:32.886042Z",
     "start_time": "2025-03-06T17:31:32.855043Z"
    }
   },
   "cell_type": "code",
   "source": "df.to_csv(\"../data_processed/daily_lifelog/emotion_diary.csv\",index=False)",
   "id": "cdbf70d3e90859ad",
   "outputs": [],
   "execution_count": 13
  }
 ],
 "metadata": {
  "kernelspec": {
   "display_name": "Python 3",
   "language": "python",
   "name": "python3"
  },
  "language_info": {
   "codemirror_mode": {
    "name": "ipython",
    "version": 2
   },
   "file_extension": ".py",
   "mimetype": "text/x-python",
   "name": "python",
   "nbconvert_exporter": "python",
   "pygments_lexer": "ipython2",
   "version": "2.7.6"
  }
 },
 "nbformat": 4,
 "nbformat_minor": 5
}
