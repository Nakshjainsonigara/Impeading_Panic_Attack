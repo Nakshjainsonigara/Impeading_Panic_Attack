{
 "cells": [
  {
   "cell_type": "code",
   "id": "initial_id",
   "metadata": {
    "collapsed": true,
    "ExecuteTime": {
     "end_time": "2025-03-06T17:31:38.478360Z",
     "start_time": "2025-03-06T17:31:37.594418Z"
    }
   },
   "source": [
    "import numpy as np\n",
    "import pandas as pd"
   ],
   "outputs": [],
   "execution_count": 1
  },
  {
   "metadata": {
    "ExecuteTime": {
     "end_time": "2025-03-06T17:31:39.343257Z",
     "start_time": "2025-03-06T17:31:38.490373Z"
    }
   },
   "cell_type": "code",
   "source": "df = pd.read_excel(\"../data/Dailylog data -lifelog/Lifestyle - Illuminance.xlsx\",parse_dates=[\"Date\"])",
   "id": "57ede9f05a493cef",
   "outputs": [],
   "execution_count": 2
  },
  {
   "metadata": {
    "ExecuteTime": {
     "end_time": "2025-03-06T17:31:44.248156Z",
     "start_time": "2025-03-06T17:31:44.232156Z"
    }
   },
   "cell_type": "code",
   "source": "df",
   "id": "454e0a31b4ddd8a",
   "outputs": [
    {
     "data": {
      "text/plain": [
       "     Non-identifying keys                Date  Measures\n",
       "0              SYM2-1-101 2021-03-02 05:41:07         0\n",
       "1              SYM2-1-101 2021-03-04 09:20:11       257\n",
       "2              SYM2-1-101 2021-03-04 10:06:25       397\n",
       "3              SYM2-1-101 2021-03-04 10:19:20       413\n",
       "4              SYM2-1-101 2021-03-04 10:23:42       405\n",
       "...                   ...                 ...       ...\n",
       "7723           SYM2-1-634 2023-12-14 21:07:06         0\n",
       "7724           SYM2-1-634 2023-12-16 02:12:36         0\n",
       "7725           SYM2-1-634 2023-12-16 21:36:48         0\n",
       "7726           SYM2-1-634 2023-12-18 09:33:19         0\n",
       "7727           SYM2-1-634 2023-12-18 09:34:11         0\n",
       "\n",
       "[7728 rows x 3 columns]"
      ],
      "text/html": [
       "<div>\n",
       "<style scoped>\n",
       "    .dataframe tbody tr th:only-of-type {\n",
       "        vertical-align: middle;\n",
       "    }\n",
       "\n",
       "    .dataframe tbody tr th {\n",
       "        vertical-align: top;\n",
       "    }\n",
       "\n",
       "    .dataframe thead th {\n",
       "        text-align: right;\n",
       "    }\n",
       "</style>\n",
       "<table border=\"1\" class=\"dataframe\">\n",
       "  <thead>\n",
       "    <tr style=\"text-align: right;\">\n",
       "      <th></th>\n",
       "      <th>Non-identifying keys</th>\n",
       "      <th>Date</th>\n",
       "      <th>Measures</th>\n",
       "    </tr>\n",
       "  </thead>\n",
       "  <tbody>\n",
       "    <tr>\n",
       "      <th>0</th>\n",
       "      <td>SYM2-1-101</td>\n",
       "      <td>2021-03-02 05:41:07</td>\n",
       "      <td>0</td>\n",
       "    </tr>\n",
       "    <tr>\n",
       "      <th>1</th>\n",
       "      <td>SYM2-1-101</td>\n",
       "      <td>2021-03-04 09:20:11</td>\n",
       "      <td>257</td>\n",
       "    </tr>\n",
       "    <tr>\n",
       "      <th>2</th>\n",
       "      <td>SYM2-1-101</td>\n",
       "      <td>2021-03-04 10:06:25</td>\n",
       "      <td>397</td>\n",
       "    </tr>\n",
       "    <tr>\n",
       "      <th>3</th>\n",
       "      <td>SYM2-1-101</td>\n",
       "      <td>2021-03-04 10:19:20</td>\n",
       "      <td>413</td>\n",
       "    </tr>\n",
       "    <tr>\n",
       "      <th>4</th>\n",
       "      <td>SYM2-1-101</td>\n",
       "      <td>2021-03-04 10:23:42</td>\n",
       "      <td>405</td>\n",
       "    </tr>\n",
       "    <tr>\n",
       "      <th>...</th>\n",
       "      <td>...</td>\n",
       "      <td>...</td>\n",
       "      <td>...</td>\n",
       "    </tr>\n",
       "    <tr>\n",
       "      <th>7723</th>\n",
       "      <td>SYM2-1-634</td>\n",
       "      <td>2023-12-14 21:07:06</td>\n",
       "      <td>0</td>\n",
       "    </tr>\n",
       "    <tr>\n",
       "      <th>7724</th>\n",
       "      <td>SYM2-1-634</td>\n",
       "      <td>2023-12-16 02:12:36</td>\n",
       "      <td>0</td>\n",
       "    </tr>\n",
       "    <tr>\n",
       "      <th>7725</th>\n",
       "      <td>SYM2-1-634</td>\n",
       "      <td>2023-12-16 21:36:48</td>\n",
       "      <td>0</td>\n",
       "    </tr>\n",
       "    <tr>\n",
       "      <th>7726</th>\n",
       "      <td>SYM2-1-634</td>\n",
       "      <td>2023-12-18 09:33:19</td>\n",
       "      <td>0</td>\n",
       "    </tr>\n",
       "    <tr>\n",
       "      <th>7727</th>\n",
       "      <td>SYM2-1-634</td>\n",
       "      <td>2023-12-18 09:34:11</td>\n",
       "      <td>0</td>\n",
       "    </tr>\n",
       "  </tbody>\n",
       "</table>\n",
       "<p>7728 rows × 3 columns</p>\n",
       "</div>"
      ]
     },
     "execution_count": 3,
     "metadata": {},
     "output_type": "execute_result"
    }
   ],
   "execution_count": 3
  },
  {
   "metadata": {
    "ExecuteTime": {
     "end_time": "2025-03-06T17:31:46.631899Z",
     "start_time": "2025-03-06T17:31:46.626898Z"
    }
   },
   "cell_type": "code",
   "source": "df.rename(columns={\"Non-identifying keys\":\"id\"},inplace=True)",
   "id": "ad59164dce3f0672",
   "outputs": [],
   "execution_count": 4
  },
  {
   "metadata": {
    "ExecuteTime": {
     "end_time": "2025-03-06T17:31:48.281175Z",
     "start_time": "2025-03-06T17:31:48.272829Z"
    }
   },
   "cell_type": "code",
   "source": "df.isna().sum()",
   "id": "23f8c13909434e2c",
   "outputs": [
    {
     "data": {
      "text/plain": [
       "id          0\n",
       "Date        0\n",
       "Measures    0\n",
       "dtype: int64"
      ]
     },
     "execution_count": 5,
     "metadata": {},
     "output_type": "execute_result"
    }
   ],
   "execution_count": 5
  },
  {
   "metadata": {
    "ExecuteTime": {
     "end_time": "2025-03-06T17:31:52.008089Z",
     "start_time": "2025-03-06T17:31:51.992959Z"
    }
   },
   "cell_type": "code",
   "source": [
    "print(df[[\"id\",\"Date\"]].duplicated().sum())\n",
    "df = df.drop_duplicates(subset=[\"id\", \"Date\"], keep='first')\n",
    "print(df[[\"id\",\"Date\"]].duplicated().sum())"
   ],
   "id": "a608b9a803e45a09",
   "outputs": [
    {
     "name": "stdout",
     "output_type": "stream",
     "text": [
      "7\n",
      "0\n"
     ]
    }
   ],
   "execution_count": 6
  },
  {
   "metadata": {
    "ExecuteTime": {
     "end_time": "2025-03-06T17:31:53.852921Z",
     "start_time": "2025-03-06T17:31:53.815502Z"
    }
   },
   "cell_type": "code",
   "source": "df.to_csv(\"../data_processed/daily_lifelog/illuminance.csv\",index=False)",
   "id": "12bfce2c1c382c28",
   "outputs": [],
   "execution_count": 7
  }
 ],
 "metadata": {
  "kernelspec": {
   "display_name": "Python 3",
   "language": "python",
   "name": "python3"
  },
  "language_info": {
   "codemirror_mode": {
    "name": "ipython",
    "version": 2
   },
   "file_extension": ".py",
   "mimetype": "text/x-python",
   "name": "python",
   "nbconvert_exporter": "python",
   "pygments_lexer": "ipython2",
   "version": "2.7.6"
  }
 },
 "nbformat": 4,
 "nbformat_minor": 5
}
