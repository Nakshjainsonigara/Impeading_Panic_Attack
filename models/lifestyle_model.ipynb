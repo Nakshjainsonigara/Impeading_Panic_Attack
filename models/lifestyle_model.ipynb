{
 "cells": [
  {
   "metadata": {
    "ExecuteTime": {
     "end_time": "2025-03-11T18:09:38.879018Z",
     "start_time": "2025-03-11T18:09:38.873753Z"
    }
   },
   "cell_type": "code",
   "source": [
    "import numpy as np\n",
    "import pandas as pd\n",
    "import os\n",
    "\n",
    "from imblearn.over_sampling import SMOTE\n",
    "from sklearn.linear_model import LogisticRegression\n",
    "from sklearn.model_selection import cross_val_score,train_test_split\n",
    "from sklearn.naive_bayes import MultinomialNB,GaussianNB\n",
    "from sklearn.preprocessing import LabelEncoder,StandardScaler,MinMaxScaler\n",
    "from functools import reduce\n",
    "\n",
    "from xgboost import XGBClassifier\n",
    "import warnings\n",
    "warnings.filterwarnings(\"ignore\")"
   ],
   "id": "1ec181b42a219f7c",
   "outputs": [],
   "execution_count": 265
  },
  {
   "metadata": {
    "ExecuteTime": {
     "end_time": "2025-03-11T16:37:12.552273Z",
     "start_time": "2025-03-11T16:37:12.540794Z"
    }
   },
   "cell_type": "code",
   "source": [
    "panic = pd.read_csv(\"../data_processed/panic.csv\")\n",
    "panic.columns=panic.columns.str.lower()\n",
    "panic = panic.drop_duplicates(subset=[\"id\", \"date\"], keep='first')\n",
    "panic['date'] = pd.to_datetime(panic['date'], format = '%Y-%m-%d')"
   ],
   "id": "df766dab89009670",
   "outputs": [],
   "execution_count": 236
  },
  {
   "metadata": {
    "ExecuteTime": {
     "end_time": "2025-03-11T16:37:14.042103Z",
     "start_time": "2025-03-11T16:37:13.953449Z"
    }
   },
   "cell_type": "code",
   "source": [
    "folder_path = \"../data_processed/daily_lifelog\"\n",
    "df={}\n",
    "files = []\n",
    "for i in os.listdir(folder_path):\n",
    "    file=str(i).rstrip(\".csv\")\n",
    "    print(file)\n",
    "    file=pd.read_csv(folder_path+\"/\"+i)\n",
    "    file = file.drop_duplicates(subset=[\"id\", \"date\"], keep='first')\n",
    "    file['date'] = file['date'].astype(str).str[:10]\n",
    "    file['date'] = pd.to_datetime(file['date'], format = '%Y-%m-%d')\n",
    "    print(file.shape)\n",
    "    file.columns = file.columns.str.lower().str.strip()\n",
    "    files.append(file)\n",
    "files.append(panic)"
   ],
   "id": "3086e967b2d24980",
   "outputs": [
    {
     "name": "stdout",
     "output_type": "stream",
     "text": [
      "caffeine\n",
      "(2153, 3)\n",
      "diary\n",
      "(364, 3)\n",
      "drinking\n",
      "(486, 3)\n",
      "emotion_diary\n",
      "(6256, 8)\n",
      "illuminance\n",
      "(7721, 3)\n",
      "sleep\n",
      "(5887, 11)\n",
      "smoking_eating_mensuration\n",
      "(1343, 10)\n",
      "workout\n",
      "(1232, 3)\n"
     ]
    }
   ],
   "execution_count": 237
  },
  {
   "metadata": {
    "ExecuteTime": {
     "end_time": "2025-03-11T16:37:15.673620Z",
     "start_time": "2025-03-11T16:37:15.633454Z"
    }
   },
   "cell_type": "code",
   "source": [
    "df = reduce(lambda left, right: pd.merge(left, right, on=['id',\"date\"],how=\"left\"), files)\n",
    "df.shape"
   ],
   "id": "26c5529319413bc5",
   "outputs": [
    {
     "data": {
      "text/plain": [
       "(3007, 31)"
      ]
     },
     "execution_count": 238,
     "metadata": {},
     "output_type": "execute_result"
    }
   ],
   "execution_count": 238
  },
  {
   "metadata": {
    "ExecuteTime": {
     "end_time": "2025-03-11T16:37:16.741508Z",
     "start_time": "2025-03-11T16:37:16.733999Z"
    }
   },
   "cell_type": "code",
   "source": [
    "print(df[\"mood\"].unique())\n",
    "df[\"mood\"]=np.where((df[\"mood\"].isna()),\"Normal\",df[\"mood\"])\n",
    "print(df[\"mood\"].unique())"
   ],
   "id": "c21db91fd0d9d062",
   "outputs": [
    {
     "name": "stdout",
     "output_type": "stream",
     "text": [
      "[nan 'Irritated' 'Grief' 'Fine' 'Depressed' 'Excitement' 'Anger' 'Joy'\n",
      " 'Happiness' '후회']\n",
      "['Normal' 'Irritated' 'Grief' 'Fine' 'Depressed' 'Excitement' 'Anger'\n",
      " 'Joy' 'Happiness' '후회']\n"
     ]
    }
   ],
   "execution_count": 239
  },
  {
   "metadata": {
    "ExecuteTime": {
     "end_time": "2025-03-11T16:33:44.076001Z",
     "start_time": "2025-03-11T16:33:44.062004Z"
    }
   },
   "cell_type": "code",
   "source": "df.info()",
   "id": "659bf798016baf0c",
   "outputs": [
    {
     "name": "stdout",
     "output_type": "stream",
     "text": [
      "<class 'pandas.core.frame.DataFrame'>\n",
      "RangeIndex: 3007 entries, 0 to 3006\n",
      "Data columns (total 31 columns):\n",
      " #   Column                      Non-Null Count  Dtype         \n",
      "---  ------                      --------------  -----         \n",
      " 0   id                          3007 non-null   object        \n",
      " 1   date                        3007 non-null   datetime64[ns]\n",
      " 2   total_caffeine              3007 non-null   float64       \n",
      " 3   mood                        3007 non-null   object        \n",
      " 4   total_alcohol_consumption   247 non-null    float64       \n",
      " 5   positive mood               2204 non-null   float64       \n",
      " 6   negative mood               2204 non-null   float64       \n",
      " 7   positive energy             2204 non-null   float64       \n",
      " 8   negative energy             2204 non-null   float64       \n",
      " 9   anxiety                     2204 non-null   float64       \n",
      " 10  irritability                2204 non-null   float64       \n",
      " 11  measures                    2191 non-null   float64       \n",
      " 12  unknown sleep               1538 non-null   float64       \n",
      " 13  wake                        1538 non-null   float64       \n",
      " 14  light sleep_1               1538 non-null   float64       \n",
      " 15  light sleep_2               1538 non-null   float64       \n",
      " 16  deep sleep                  1538 non-null   float64       \n",
      " 17  sleep_duration              1538 non-null   float64       \n",
      " 18  sleep_efficiency            1538 non-null   float64       \n",
      " 19  sleep_in                    1538 non-null   float64       \n",
      " 20  sleep_out                   1538 non-null   float64       \n",
      " 21  amount smoked               1147 non-null   float64       \n",
      " 22  breakfast                   1147 non-null   object        \n",
      " 23  lunch                       1147 non-null   object        \n",
      " 24  dinner                      1147 non-null   object        \n",
      " 25  morning snack               1147 non-null   object        \n",
      " 26  afternoon snack             1147 non-null   object        \n",
      " 27  midnight snacks             1147 non-null   object        \n",
      " 28  menstruation                1147 non-null   object        \n",
      " 29  workout duration (minutes)  1000 non-null   float64       \n",
      " 30  panic                       366 non-null    float64       \n",
      "dtypes: datetime64[ns](1), float64(21), object(9)\n",
      "memory usage: 728.4+ KB\n"
     ]
    }
   ],
   "execution_count": 218
  },
  {
   "metadata": {
    "ExecuteTime": {
     "end_time": "2025-03-11T16:38:04.312414Z",
     "start_time": "2025-03-11T16:38:04.299266Z"
    }
   },
   "cell_type": "code",
   "source": "df[df.select_dtypes(include=\"float64\").columns] = df.select_dtypes(include=\"float64\").fillna(0)",
   "id": "82b0c2cd712925b",
   "outputs": [],
   "execution_count": 242
  },
  {
   "metadata": {
    "ExecuteTime": {
     "end_time": "2025-03-11T16:31:14.640643Z",
     "start_time": "2025-03-11T16:31:14.613677Z"
    }
   },
   "cell_type": "code",
   "source": [
    "df[\"total_alcohol_consumption\"]=df[\"total_alcohol_consumption\"].fillna(0)\n",
    "df[\"total_caffeine\"]=df[\"total_caffeine\"].fillna(0)\n",
    "df[\"amount smoked\"]=df[\"amount smoked\"].fillna(0)\n",
    "df[\"workout duration (minutes)\"]=df[\"workout duration (minutes)\"].fillna(0)\n",
    "df[[\"positive mood\",\"negative mood\",\"positive energy\",\"negative energy\",\"anxiety\",\"irritability\"]]=df[[\"positive mood\",\"negative mood\",\"positive energy\",\"negative energy\",\"anxiety\",\"irritability\",\"measures\",\"unknown sleep\",\"wake\"]].fillna(0)\n",
    "df.iloc[:,14:-1]=df.iloc[:,14:-1].fillna(\"N\")\n",
    "df[\"panic\"]=df[\"panic\"].fillna(0)"
   ],
   "id": "f4ef39e57323491d",
   "outputs": [
    {
     "name": "stderr",
     "output_type": "stream",
     "text": [
      "C:\\Users\\jainn\\AppData\\Local\\Temp\\ipykernel_16272\\3519563006.py:6: FutureWarning: Setting an item of incompatible dtype is deprecated and will raise in a future error of pandas. Value '0           N\n",
      "1           N\n",
      "2           N\n",
      "3           N\n",
      "4           N\n",
      "        ...  \n",
      "3002    277.0\n",
      "3003      0.0\n",
      "3004    132.0\n",
      "3005      0.0\n",
      "3006    132.0\n",
      "Name: light sleep_1, Length: 3007, dtype: object' has dtype incompatible with float64, please explicitly cast to a compatible dtype first.\n",
      "  df.iloc[:,14:-1]=df.iloc[:,14:-1].fillna(\"N\")\n",
      "C:\\Users\\jainn\\AppData\\Local\\Temp\\ipykernel_16272\\3519563006.py:6: FutureWarning: Setting an item of incompatible dtype is deprecated and will raise in a future error of pandas. Value '0           N\n",
      "1           N\n",
      "2           N\n",
      "3           N\n",
      "4           N\n",
      "        ...  \n",
      "3002    554.0\n",
      "3003      0.0\n",
      "3004    317.0\n",
      "3005      0.0\n",
      "3006    317.0\n",
      "Name: light sleep_2, Length: 3007, dtype: object' has dtype incompatible with float64, please explicitly cast to a compatible dtype first.\n",
      "  df.iloc[:,14:-1]=df.iloc[:,14:-1].fillna(\"N\")\n",
      "C:\\Users\\jainn\\AppData\\Local\\Temp\\ipykernel_16272\\3519563006.py:6: FutureWarning: Setting an item of incompatible dtype is deprecated and will raise in a future error of pandas. Value '0           N\n",
      "1           N\n",
      "2           N\n",
      "3           N\n",
      "4           N\n",
      "        ...  \n",
      "3002    347.0\n",
      "3003      0.0\n",
      "3004    176.0\n",
      "3005      0.0\n",
      "3006    176.0\n",
      "Name: deep sleep, Length: 3007, dtype: object' has dtype incompatible with float64, please explicitly cast to a compatible dtype first.\n",
      "  df.iloc[:,14:-1]=df.iloc[:,14:-1].fillna(\"N\")\n",
      "C:\\Users\\jainn\\AppData\\Local\\Temp\\ipykernel_16272\\3519563006.py:6: FutureWarning: Setting an item of incompatible dtype is deprecated and will raise in a future error of pandas. Value '0              N\n",
      "1              N\n",
      "2              N\n",
      "3              N\n",
      "4              N\n",
      "          ...   \n",
      "3002        11.1\n",
      "3003    1.108333\n",
      "3004    6.083333\n",
      "3005    1.108333\n",
      "3006    6.083333\n",
      "Name: sleep_duration, Length: 3007, dtype: object' has dtype incompatible with float64, please explicitly cast to a compatible dtype first.\n",
      "  df.iloc[:,14:-1]=df.iloc[:,14:-1].fillna(\"N\")\n",
      "C:\\Users\\jainn\\AppData\\Local\\Temp\\ipykernel_16272\\3519563006.py:6: FutureWarning: Setting an item of incompatible dtype is deprecated and will raise in a future error of pandas. Value '0              N\n",
      "1              N\n",
      "2              N\n",
      "3              N\n",
      "4              N\n",
      "          ...   \n",
      "3002    2.947948\n",
      "3003    3.333333\n",
      "3004    2.853881\n",
      "3005    3.333333\n",
      "3006    2.853881\n",
      "Name: sleep_efficiency, Length: 3007, dtype: object' has dtype incompatible with float64, please explicitly cast to a compatible dtype first.\n",
      "  df.iloc[:,14:-1]=df.iloc[:,14:-1].fillna(\"N\")\n",
      "C:\\Users\\jainn\\AppData\\Local\\Temp\\ipykernel_16272\\3519563006.py:6: FutureWarning: Setting an item of incompatible dtype is deprecated and will raise in a future error of pandas. Value '0              N\n",
      "1              N\n",
      "2              N\n",
      "3              N\n",
      "4              N\n",
      "          ...   \n",
      "3002    4.483333\n",
      "3003    7.408333\n",
      "3004    2.583333\n",
      "3005    7.408333\n",
      "3006    2.583333\n",
      "Name: sleep_in, Length: 3007, dtype: object' has dtype incompatible with float64, please explicitly cast to a compatible dtype first.\n",
      "  df.iloc[:,14:-1]=df.iloc[:,14:-1].fillna(\"N\")\n",
      "C:\\Users\\jainn\\AppData\\Local\\Temp\\ipykernel_16272\\3519563006.py:6: FutureWarning: Setting an item of incompatible dtype is deprecated and will raise in a future error of pandas. Value '0              N\n",
      "1              N\n",
      "2              N\n",
      "3              N\n",
      "4              N\n",
      "          ...   \n",
      "3002   -6.616667\n",
      "3003         6.3\n",
      "3004        -3.5\n",
      "3005         6.3\n",
      "3006        -3.5\n",
      "Name: sleep_out, Length: 3007, dtype: object' has dtype incompatible with float64, please explicitly cast to a compatible dtype first.\n",
      "  df.iloc[:,14:-1]=df.iloc[:,14:-1].fillna(\"N\")\n"
     ]
    }
   ],
   "execution_count": 204
  },
  {
   "metadata": {
    "ExecuteTime": {
     "end_time": "2025-03-11T16:38:19.593730Z",
     "start_time": "2025-03-11T16:38:19.585804Z"
    }
   },
   "cell_type": "code",
   "source": "df.set_index([\"id\",\"date\"],inplace=True)",
   "id": "31ddf4c5fb2f8bfe",
   "outputs": [],
   "execution_count": 244
  },
  {
   "metadata": {
    "ExecuteTime": {
     "end_time": "2025-03-11T16:36:36.502339Z",
     "start_time": "2025-03-11T16:36:36.495347Z"
    }
   },
   "cell_type": "code",
   "source": [
    "encoder = LabelEncoder()\n",
    "df[\"mood\"]=encoder.fit_transform(df[\"mood\"])"
   ],
   "id": "e848b0516cf12837",
   "outputs": [],
   "execution_count": 228
  },
  {
   "metadata": {
    "ExecuteTime": {
     "end_time": "2025-03-11T16:38:23.871136Z",
     "start_time": "2025-03-11T16:38:23.859807Z"
    }
   },
   "cell_type": "code",
   "source": [
    "scaler = MinMaxScaler()\n",
    "df[[\"total_alcohol_consumption\",\"total_caffeine\",\"workout duration (minutes)\"]]=scaler.fit_transform(df[[\"total_alcohol_consumption\",\"total_caffeine\",\"workout duration (minutes)\"]])"
   ],
   "id": "9427554c9dce595f",
   "outputs": [],
   "execution_count": 246
  },
  {
   "metadata": {
    "ExecuteTime": {
     "end_time": "2025-03-11T16:38:25.245741Z",
     "start_time": "2025-03-11T16:38:25.236383Z"
    }
   },
   "cell_type": "code",
   "source": "df.isna().sum()",
   "id": "3f33971ef2a4f06a",
   "outputs": [
    {
     "data": {
      "text/plain": [
       "total_caffeine                   0\n",
       "mood                             0\n",
       "total_alcohol_consumption        0\n",
       "positive mood                    0\n",
       "negative mood                    0\n",
       "positive energy                  0\n",
       "negative energy                  0\n",
       "anxiety                          0\n",
       "irritability                     0\n",
       "measures                         0\n",
       "unknown sleep                    0\n",
       "wake                             0\n",
       "light sleep_1                    0\n",
       "light sleep_2                    0\n",
       "deep sleep                       0\n",
       "sleep_duration                   0\n",
       "sleep_efficiency                 0\n",
       "sleep_in                         0\n",
       "sleep_out                        0\n",
       "amount smoked                    0\n",
       "breakfast                     1860\n",
       "lunch                         1860\n",
       "dinner                        1860\n",
       "morning snack                 1860\n",
       "afternoon snack               1860\n",
       "midnight snacks               1860\n",
       "menstruation                  1860\n",
       "workout duration (minutes)       0\n",
       "panic                            0\n",
       "dtype: int64"
      ]
     },
     "execution_count": 247,
     "metadata": {},
     "output_type": "execute_result"
    }
   ],
   "execution_count": 247
  },
  {
   "metadata": {
    "ExecuteTime": {
     "end_time": "2025-03-11T16:38:30.417599Z",
     "start_time": "2025-03-11T16:38:30.409124Z"
    }
   },
   "cell_type": "code",
   "source": "df.select_dtypes(\"object\").columns",
   "id": "1da1ff887537314a",
   "outputs": [
    {
     "data": {
      "text/plain": [
       "Index(['mood', 'breakfast', 'lunch', 'dinner', 'morning snack',\n",
       "       'afternoon snack', 'midnight snacks', 'menstruation'],\n",
       "      dtype='object')"
      ]
     },
     "execution_count": 248,
     "metadata": {},
     "output_type": "execute_result"
    }
   ],
   "execution_count": 248
  },
  {
   "metadata": {
    "ExecuteTime": {
     "end_time": "2025-03-11T16:38:31.728891Z",
     "start_time": "2025-03-11T16:38:31.709775Z"
    }
   },
   "cell_type": "code",
   "source": "df=pd.get_dummies(df,columns=df.select_dtypes(\"object\").columns.tolist())",
   "id": "86fc2b87bc34dfe7",
   "outputs": [],
   "execution_count": 249
  },
  {
   "metadata": {
    "ExecuteTime": {
     "end_time": "2025-03-11T16:38:36.761710Z",
     "start_time": "2025-03-11T16:38:36.752782Z"
    }
   },
   "cell_type": "code",
   "source": "df.isna().sum()",
   "id": "c68363afd51ded40",
   "outputs": [
    {
     "data": {
      "text/plain": [
       "total_caffeine                0\n",
       "total_alcohol_consumption     0\n",
       "positive mood                 0\n",
       "negative mood                 0\n",
       "positive energy               0\n",
       "negative energy               0\n",
       "anxiety                       0\n",
       "irritability                  0\n",
       "measures                      0\n",
       "unknown sleep                 0\n",
       "wake                          0\n",
       "light sleep_1                 0\n",
       "light sleep_2                 0\n",
       "deep sleep                    0\n",
       "sleep_duration                0\n",
       "sleep_efficiency              0\n",
       "sleep_in                      0\n",
       "sleep_out                     0\n",
       "amount smoked                 0\n",
       "workout duration (minutes)    0\n",
       "panic                         0\n",
       "mood_Anger                    0\n",
       "mood_Depressed                0\n",
       "mood_Excitement               0\n",
       "mood_Fine                     0\n",
       "mood_Grief                    0\n",
       "mood_Happiness                0\n",
       "mood_Irritated                0\n",
       "mood_Joy                      0\n",
       "mood_Normal                   0\n",
       "mood_후회                       0\n",
       "breakfast_N                   0\n",
       "breakfast_Y                   0\n",
       "lunch_N                       0\n",
       "lunch_Y                       0\n",
       "dinner_N                      0\n",
       "dinner_Y                      0\n",
       "morning snack_N               0\n",
       "morning snack_Y               0\n",
       "afternoon snack_N             0\n",
       "afternoon snack_Y             0\n",
       "midnight snacks_N             0\n",
       "midnight snacks_Y             0\n",
       "menstruation_N                0\n",
       "menstruation_Y                0\n",
       "menstruation_해당없음             0\n",
       "dtype: int64"
      ]
     },
     "execution_count": 250,
     "metadata": {},
     "output_type": "execute_result"
    }
   ],
   "execution_count": 250
  },
  {
   "metadata": {
    "ExecuteTime": {
     "end_time": "2025-03-11T16:40:48.782743Z",
     "start_time": "2025-03-11T16:40:48.500742Z"
    }
   },
   "cell_type": "code",
   "source": [
    "X=df.drop(columns=\"panic\")\n",
    "y=df[\"panic\"]\n",
    "\n",
    "smote = SMOTE(sampling_strategy='auto', random_state=42)\n",
    "X, y = smote.fit_resample(X, y)\n",
    "def fit(model):\n",
    "    score = cross_val_score(model,X,y,scoring=\"roc_auc_ovr\",cv=5)\n",
    "    return score.mean()"
   ],
   "id": "92a053de084888e5",
   "outputs": [],
   "execution_count": 256
  },
  {
   "metadata": {
    "ExecuteTime": {
     "end_time": "2025-03-11T16:40:51.103910Z",
     "start_time": "2025-03-11T16:40:50.635689Z"
    }
   },
   "cell_type": "code",
   "source": "fit(LogisticRegression())",
   "id": "d1e02e9004a671e",
   "outputs": [
    {
     "name": "stderr",
     "output_type": "stream",
     "text": [
      "C:\\Users\\jainn\\PycharmProjects\\pythonProject\\.venv\\Lib\\site-packages\\sklearn\\linear_model\\_logistic.py:465: ConvergenceWarning: lbfgs failed to converge (status=1):\n",
      "STOP: TOTAL NO. OF ITERATIONS REACHED LIMIT.\n",
      "\n",
      "Increase the number of iterations (max_iter) or scale the data as shown in:\n",
      "    https://scikit-learn.org/stable/modules/preprocessing.html\n",
      "Please also refer to the documentation for alternative solver options:\n",
      "    https://scikit-learn.org/stable/modules/linear_model.html#logistic-regression\n",
      "  n_iter_i = _check_optimize_result(\n",
      "C:\\Users\\jainn\\PycharmProjects\\pythonProject\\.venv\\Lib\\site-packages\\sklearn\\linear_model\\_logistic.py:465: ConvergenceWarning: lbfgs failed to converge (status=1):\n",
      "STOP: TOTAL NO. OF ITERATIONS REACHED LIMIT.\n",
      "\n",
      "Increase the number of iterations (max_iter) or scale the data as shown in:\n",
      "    https://scikit-learn.org/stable/modules/preprocessing.html\n",
      "Please also refer to the documentation for alternative solver options:\n",
      "    https://scikit-learn.org/stable/modules/linear_model.html#logistic-regression\n",
      "  n_iter_i = _check_optimize_result(\n",
      "C:\\Users\\jainn\\PycharmProjects\\pythonProject\\.venv\\Lib\\site-packages\\sklearn\\linear_model\\_logistic.py:465: ConvergenceWarning: lbfgs failed to converge (status=1):\n",
      "STOP: TOTAL NO. OF ITERATIONS REACHED LIMIT.\n",
      "\n",
      "Increase the number of iterations (max_iter) or scale the data as shown in:\n",
      "    https://scikit-learn.org/stable/modules/preprocessing.html\n",
      "Please also refer to the documentation for alternative solver options:\n",
      "    https://scikit-learn.org/stable/modules/linear_model.html#logistic-regression\n",
      "  n_iter_i = _check_optimize_result(\n",
      "C:\\Users\\jainn\\PycharmProjects\\pythonProject\\.venv\\Lib\\site-packages\\sklearn\\linear_model\\_logistic.py:465: ConvergenceWarning: lbfgs failed to converge (status=1):\n",
      "STOP: TOTAL NO. OF ITERATIONS REACHED LIMIT.\n",
      "\n",
      "Increase the number of iterations (max_iter) or scale the data as shown in:\n",
      "    https://scikit-learn.org/stable/modules/preprocessing.html\n",
      "Please also refer to the documentation for alternative solver options:\n",
      "    https://scikit-learn.org/stable/modules/linear_model.html#logistic-regression\n",
      "  n_iter_i = _check_optimize_result(\n",
      "C:\\Users\\jainn\\PycharmProjects\\pythonProject\\.venv\\Lib\\site-packages\\sklearn\\linear_model\\_logistic.py:465: ConvergenceWarning: lbfgs failed to converge (status=1):\n",
      "STOP: TOTAL NO. OF ITERATIONS REACHED LIMIT.\n",
      "\n",
      "Increase the number of iterations (max_iter) or scale the data as shown in:\n",
      "    https://scikit-learn.org/stable/modules/preprocessing.html\n",
      "Please also refer to the documentation for alternative solver options:\n",
      "    https://scikit-learn.org/stable/modules/linear_model.html#logistic-regression\n",
      "  n_iter_i = _check_optimize_result(\n"
     ]
    },
    {
     "data": {
      "text/plain": [
       "np.float64(0.7135969356577477)"
      ]
     },
     "execution_count": 257,
     "metadata": {},
     "output_type": "execute_result"
    }
   ],
   "execution_count": 257
  },
  {
   "metadata": {
    "ExecuteTime": {
     "end_time": "2025-03-11T16:49:46.678499Z",
     "start_time": "2025-03-11T16:49:46.589506Z"
    }
   },
   "cell_type": "code",
   "source": "fit(GaussianNB())",
   "id": "b6199223663e8f37",
   "outputs": [
    {
     "data": {
      "text/plain": [
       "np.float64(0.7930771860399607)"
      ]
     },
     "execution_count": 262,
     "metadata": {},
     "output_type": "execute_result"
    }
   ],
   "execution_count": 262
  },
  {
   "metadata": {
    "ExecuteTime": {
     "end_time": "2025-03-11T19:03:38.540295Z",
     "start_time": "2025-03-11T19:03:22.358593Z"
    }
   },
   "cell_type": "code",
   "source": "fit(XGBClassifier(booster=\"dart\",max_depth=3,learning_rate=0.1,min_child_weight=0.4))",
   "id": "a19313625b36835c",
   "outputs": [
    {
     "data": {
      "text/plain": [
       "np.float64(0.9477996794530759)"
      ]
     },
     "execution_count": 275,
     "metadata": {},
     "output_type": "execute_result"
    }
   ],
   "execution_count": 275
  }
 ],
 "metadata": {
  "kernelspec": {
   "display_name": "Python 3",
   "language": "python",
   "name": "python3"
  },
  "language_info": {
   "codemirror_mode": {
    "name": "ipython",
    "version": 2
   },
   "file_extension": ".py",
   "mimetype": "text/x-python",
   "name": "python",
   "nbconvert_exporter": "python",
   "pygments_lexer": "ipython2",
   "version": "2.7.6"
  }
 },
 "nbformat": 4,
 "nbformat_minor": 5
}
