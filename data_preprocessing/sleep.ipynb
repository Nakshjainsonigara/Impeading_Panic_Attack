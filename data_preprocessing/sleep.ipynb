{
 "cells": [
  {
   "metadata": {
    "ExecuteTime": {
     "end_time": "2025-03-09T20:12:51.650219Z",
     "start_time": "2025-03-09T20:12:51.645823Z"
    }
   },
   "cell_type": "code",
   "source": [
    "import numpy as np\n",
    "import pandas as pd\n",
    "import re"
   ],
   "id": "78d2c8e73fc904ea",
   "outputs": [],
   "execution_count": 317
  },
  {
   "metadata": {
    "ExecuteTime": {
     "end_time": "2025-03-09T20:12:53.804758Z",
     "start_time": "2025-03-09T20:12:53.312265Z"
    }
   },
   "cell_type": "code",
   "source": "df = pd.read_excel(\"../data/Dailylog data -lifelog/Lifestyle - Sleep.xlsx\")",
   "id": "689c0ab8c9fde669",
   "outputs": [],
   "execution_count": 318
  },
  {
   "metadata": {
    "ExecuteTime": {
     "end_time": "2025-03-09T20:12:54.982589Z",
     "start_time": "2025-03-09T20:12:54.967493Z"
    }
   },
   "cell_type": "code",
   "source": [
    "df['Bedtime'] = pd.to_datetime(df['Bedtime'], format = '%Y-%m-%d %H:%M:%S')\n",
    "df['Wake up time'] = pd.to_datetime(df['Wake up time'], format = '%Y-%m-%d %H:%M:%S')"
   ],
   "id": "8a046fc2ab2f27bf",
   "outputs": [],
   "execution_count": 319
  },
  {
   "metadata": {
    "ExecuteTime": {
     "end_time": "2025-03-09T20:12:56.195634Z",
     "start_time": "2025-03-09T20:12:56.191567Z"
    }
   },
   "cell_type": "code",
   "source": "df.rename(columns={\"Non-identifying keys\":\"id\",\"Measurement (-1: no value, 0: unknown sleep, 1: wake, 2: light sleep, 3: light sleep, 4: deep sleep)\":\"Measurement\"},inplace=True)",
   "id": "225e245b859a1bcb",
   "outputs": [],
   "execution_count": 320
  },
  {
   "metadata": {
    "ExecuteTime": {
     "end_time": "2025-03-09T20:12:57.889222Z",
     "start_time": "2025-03-09T20:12:57.878225Z"
    }
   },
   "cell_type": "code",
   "source": "df.isna().sum()",
   "id": "dec502f6648c2947",
   "outputs": [
    {
     "data": {
      "text/plain": [
       "id                   0\n",
       "Date                 0\n",
       "Measurement types    0\n",
       "Units of measure     0\n",
       "Measurement          0\n",
       "Bedtime              0\n",
       "Wake up time         0\n",
       "dtype: int64"
      ]
     },
     "execution_count": 321,
     "metadata": {},
     "output_type": "execute_result"
    }
   ],
   "execution_count": 321
  },
  {
   "metadata": {
    "ExecuteTime": {
     "end_time": "2025-03-09T20:13:01.145817Z",
     "start_time": "2025-03-09T20:13:00.027989Z"
    }
   },
   "cell_type": "code",
   "source": "df[\"Measurement\"] = df[\"Measurement\"].apply(lambda x: list(map(int, re.findall(r'\\d', x))))",
   "id": "433b73d744b345e2",
   "outputs": [],
   "execution_count": 322
  },
  {
   "metadata": {
    "ExecuteTime": {
     "end_time": "2025-03-09T20:13:02.870280Z",
     "start_time": "2025-03-09T20:13:01.896803Z"
    }
   },
   "cell_type": "code",
   "source": "df_exploded=df.explode(\"Measurement\")",
   "id": "9b32209d4876b9e6",
   "outputs": [],
   "execution_count": 323
  },
  {
   "metadata": {
    "ExecuteTime": {
     "end_time": "2025-03-09T20:13:03.834825Z",
     "start_time": "2025-03-09T20:13:02.958819Z"
    }
   },
   "cell_type": "code",
   "source": [
    "sleep_patterns=pd.pivot_table(\n",
    "    df_exploded,\n",
    "    index=[\"id\",\"Date\"],\n",
    "    columns=\"Measurement\",\n",
    "    aggfunc=\"size\",\n",
    "    fill_value=0\n",
    ").reset_index()\n",
    "cols = {-1: \"no value\", 0: \"unknown sleep\", 1: \"wake\", 2: \"light sleep_1\", 3: \"light sleep_2\", 4: \"deep sleep\"}\n",
    "sleep_patterns.rename(columns=cols,inplace=True)"
   ],
   "id": "d56b26ffa6d62f3e",
   "outputs": [],
   "execution_count": 324
  },
  {
   "metadata": {
    "ExecuteTime": {
     "end_time": "2025-03-09T20:13:06.495060Z",
     "start_time": "2025-03-09T20:13:06.489172Z"
    }
   },
   "cell_type": "code",
   "source": "sleep_patterns.drop(columns=9,inplace=True)",
   "id": "52c7e96ebe2d5d46",
   "outputs": [],
   "execution_count": 325
  },
  {
   "metadata": {
    "ExecuteTime": {
     "end_time": "2025-03-09T20:13:07.865016Z",
     "start_time": "2025-03-09T20:13:07.854797Z"
    }
   },
   "cell_type": "code",
   "source": "df=pd.merge(df,sleep_patterns,on=[\"id\",\"Date\"])",
   "id": "d6fe773e1626a2cb",
   "outputs": [],
   "execution_count": 326
  },
  {
   "metadata": {
    "ExecuteTime": {
     "end_time": "2025-03-09T20:13:12.009972Z",
     "start_time": "2025-03-09T20:13:12.004746Z"
    }
   },
   "cell_type": "code",
   "source": "df[\"sleep_duration\"]=df[\"Wake up time\"]-df[\"Bedtime\"]",
   "id": "577aa9fad7646a08",
   "outputs": [],
   "execution_count": 327
  },
  {
   "metadata": {
    "ExecuteTime": {
     "end_time": "2025-03-09T20:13:13.675929Z",
     "start_time": "2025-03-09T20:13:13.669929Z"
    }
   },
   "cell_type": "code",
   "source": "df[\"total_sleep_time\"]=df[\"unknown sleep\"]+df[\"light sleep_1\"]+df[\"light sleep_2\"]+df[\"deep sleep\"]",
   "id": "69d29dcde4f61aa1",
   "outputs": [],
   "execution_count": 328
  },
  {
   "metadata": {
    "ExecuteTime": {
     "end_time": "2025-03-09T20:13:15.048996Z",
     "start_time": "2025-03-09T20:13:15.045014Z"
    }
   },
   "cell_type": "code",
   "source": "df[\"sleep_efficiency\"]=(df[\"total_sleep_time\"]/df[\"sleep_duration\"].dt.total_seconds())*100",
   "id": "eac309c186a8a50",
   "outputs": [],
   "execution_count": 329
  },
  {
   "metadata": {
    "ExecuteTime": {
     "end_time": "2025-03-09T20:13:16.487572Z",
     "start_time": "2025-03-09T20:13:16.482479Z"
    }
   },
   "cell_type": "code",
   "source": "df[\"sleep_duration\"] = df[\"sleep_duration\"].dt.total_seconds()/3600",
   "id": "872efe06a966f7e2",
   "outputs": [],
   "execution_count": 330
  },
  {
   "metadata": {
    "ExecuteTime": {
     "end_time": "2025-03-09T20:13:18.746462Z",
     "start_time": "2025-03-09T20:13:18.741205Z"
    }
   },
   "cell_type": "code",
   "source": [
    "df[\"sleep_in\"]=df[\"Date\"]-df[\"Bedtime\"]\n",
    "df[\"sleep_out\"]=df[\"Date\"]-df[\"Wake up time\"]\n",
    "\n",
    "df[\"sleep_in\"]=df[\"sleep_in\"].dt.total_seconds()/3600\n",
    "df[\"sleep_out\"]=df[\"sleep_out\"].dt.total_seconds()/3600"
   ],
   "id": "eeda7b36853bdb85",
   "outputs": [],
   "execution_count": 331
  },
  {
   "metadata": {
    "ExecuteTime": {
     "end_time": "2025-03-09T20:13:20.317887Z",
     "start_time": "2025-03-09T20:13:20.300897Z"
    }
   },
   "cell_type": "code",
   "source": "df.drop(columns=[\"Measurement\",\"Units of measure\",\"Measurement types\",\"total_sleep_time\",\"Bedtime\",\"Wake up time\"],inplace=True)",
   "id": "67ffb34130915571",
   "outputs": [],
   "execution_count": 332
  },
  {
   "metadata": {
    "ExecuteTime": {
     "end_time": "2025-03-09T20:13:21.717257Z",
     "start_time": "2025-03-09T20:13:21.667358Z"
    }
   },
   "cell_type": "code",
   "source": "df.to_csv(\"../data_processed/daily_lifelog/sleep\",index=False)",
   "id": "1f2a0759540cf20f",
   "outputs": [],
   "execution_count": 333
  }
 ],
 "metadata": {
  "kernelspec": {
   "display_name": "Python 3",
   "language": "python",
   "name": "python3"
  },
  "language_info": {
   "codemirror_mode": {
    "name": "ipython",
    "version": 2
   },
   "file_extension": ".py",
   "mimetype": "text/x-python",
   "name": "python",
   "nbconvert_exporter": "python",
   "pygments_lexer": "ipython2",
   "version": "2.7.6"
  }
 },
 "nbformat": 4,
 "nbformat_minor": 5
}
