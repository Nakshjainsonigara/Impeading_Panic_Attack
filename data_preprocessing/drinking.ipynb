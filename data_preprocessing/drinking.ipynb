{
 "cells": [
  {
   "cell_type": "code",
   "id": "initial_id",
   "metadata": {
    "collapsed": true,
    "ExecuteTime": {
     "end_time": "2025-03-03T18:48:41.833253Z",
     "start_time": "2025-03-03T18:48:41.177427Z"
    }
   },
   "source": [
    "import numpy as np\n",
    "import pandas as pd"
   ],
   "outputs": [],
   "execution_count": 1
  },
  {
   "metadata": {
    "ExecuteTime": {
     "end_time": "2025-03-03T18:57:06.588290Z",
     "start_time": "2025-03-03T18:57:06.534069Z"
    }
   },
   "cell_type": "code",
   "source": "df = pd.read_excel(\"../data/Dailylog data -lifelog/Lifestyle - Drinking (2).xlsx\")",
   "id": "e1a4f46a566b84bf",
   "outputs": [],
   "execution_count": 40
  },
  {
   "metadata": {
    "ExecuteTime": {
     "end_time": "2025-03-03T18:57:16.670202Z",
     "start_time": "2025-03-03T18:57:16.664985Z"
    }
   },
   "cell_type": "code",
   "source": "df.rename(columns={\"Non-identifying keys\":\"id\"},inplace=True)",
   "id": "d15adcbed4591ef",
   "outputs": [],
   "execution_count": 43
  },
  {
   "metadata": {
    "ExecuteTime": {
     "end_time": "2025-03-03T18:57:08.633700Z",
     "start_time": "2025-03-03T18:57:08.621057Z"
    }
   },
   "cell_type": "code",
   "source": "df",
   "id": "51a4eae9e6ba7de2",
   "outputs": [
    {
     "data": {
      "text/plain": [
       "    Non-identifying keys       Date     When   Types of alcohol  \\\n",
       "0             SYM2-1-101 2021-03-02  Evening  Other (rice wine)   \n",
       "1             SYM2-1-101 2021-03-03  Evening  Other (rice wine)   \n",
       "2             SYM2-1-135 2021-03-17       AM               Beer   \n",
       "3             SYM2-1-137 2021-04-27       AM               Soju   \n",
       "4             SYM2-1-292 2021-05-17  Evening               Beer   \n",
       "..                   ...        ...      ...                ...   \n",
       "521           SYM2-1-634 2023-12-09       PM             Liquor   \n",
       "522           SYM2-1-634 2023-12-10       PM         Fruit wine   \n",
       "523           SYM2-1-634 2023-12-10       PM             Liquor   \n",
       "524           SYM2-1-634 2023-12-10  Evening               Beer   \n",
       "525           SYM2-1-634 2023-12-10  Evening               Soju   \n",
       "\n",
       "     Alcohol consumption            units  \n",
       "0                      3  glasses (200ml)  \n",
       "1                      3  glasses (200ml)  \n",
       "2                     25  glasses (500ml)  \n",
       "3                      1   glasses (50ml)  \n",
       "4                      2  glasses (500ml)  \n",
       "..                   ...              ...  \n",
       "521                    6      shots (1oz)  \n",
       "522                   15   glasses (50ml)  \n",
       "523                    3      shots (1oz)  \n",
       "524                    2  glasses (500ml)  \n",
       "525                    5   glasses (50ml)  \n",
       "\n",
       "[526 rows x 6 columns]"
      ],
      "text/html": [
       "<div>\n",
       "<style scoped>\n",
       "    .dataframe tbody tr th:only-of-type {\n",
       "        vertical-align: middle;\n",
       "    }\n",
       "\n",
       "    .dataframe tbody tr th {\n",
       "        vertical-align: top;\n",
       "    }\n",
       "\n",
       "    .dataframe thead th {\n",
       "        text-align: right;\n",
       "    }\n",
       "</style>\n",
       "<table border=\"1\" class=\"dataframe\">\n",
       "  <thead>\n",
       "    <tr style=\"text-align: right;\">\n",
       "      <th></th>\n",
       "      <th>Non-identifying keys</th>\n",
       "      <th>Date</th>\n",
       "      <th>When</th>\n",
       "      <th>Types of alcohol</th>\n",
       "      <th>Alcohol consumption</th>\n",
       "      <th>units</th>\n",
       "    </tr>\n",
       "  </thead>\n",
       "  <tbody>\n",
       "    <tr>\n",
       "      <th>0</th>\n",
       "      <td>SYM2-1-101</td>\n",
       "      <td>2021-03-02</td>\n",
       "      <td>Evening</td>\n",
       "      <td>Other (rice wine)</td>\n",
       "      <td>3</td>\n",
       "      <td>glasses (200ml)</td>\n",
       "    </tr>\n",
       "    <tr>\n",
       "      <th>1</th>\n",
       "      <td>SYM2-1-101</td>\n",
       "      <td>2021-03-03</td>\n",
       "      <td>Evening</td>\n",
       "      <td>Other (rice wine)</td>\n",
       "      <td>3</td>\n",
       "      <td>glasses (200ml)</td>\n",
       "    </tr>\n",
       "    <tr>\n",
       "      <th>2</th>\n",
       "      <td>SYM2-1-135</td>\n",
       "      <td>2021-03-17</td>\n",
       "      <td>AM</td>\n",
       "      <td>Beer</td>\n",
       "      <td>25</td>\n",
       "      <td>glasses (500ml)</td>\n",
       "    </tr>\n",
       "    <tr>\n",
       "      <th>3</th>\n",
       "      <td>SYM2-1-137</td>\n",
       "      <td>2021-04-27</td>\n",
       "      <td>AM</td>\n",
       "      <td>Soju</td>\n",
       "      <td>1</td>\n",
       "      <td>glasses (50ml)</td>\n",
       "    </tr>\n",
       "    <tr>\n",
       "      <th>4</th>\n",
       "      <td>SYM2-1-292</td>\n",
       "      <td>2021-05-17</td>\n",
       "      <td>Evening</td>\n",
       "      <td>Beer</td>\n",
       "      <td>2</td>\n",
       "      <td>glasses (500ml)</td>\n",
       "    </tr>\n",
       "    <tr>\n",
       "      <th>...</th>\n",
       "      <td>...</td>\n",
       "      <td>...</td>\n",
       "      <td>...</td>\n",
       "      <td>...</td>\n",
       "      <td>...</td>\n",
       "      <td>...</td>\n",
       "    </tr>\n",
       "    <tr>\n",
       "      <th>521</th>\n",
       "      <td>SYM2-1-634</td>\n",
       "      <td>2023-12-09</td>\n",
       "      <td>PM</td>\n",
       "      <td>Liquor</td>\n",
       "      <td>6</td>\n",
       "      <td>shots (1oz)</td>\n",
       "    </tr>\n",
       "    <tr>\n",
       "      <th>522</th>\n",
       "      <td>SYM2-1-634</td>\n",
       "      <td>2023-12-10</td>\n",
       "      <td>PM</td>\n",
       "      <td>Fruit wine</td>\n",
       "      <td>15</td>\n",
       "      <td>glasses (50ml)</td>\n",
       "    </tr>\n",
       "    <tr>\n",
       "      <th>523</th>\n",
       "      <td>SYM2-1-634</td>\n",
       "      <td>2023-12-10</td>\n",
       "      <td>PM</td>\n",
       "      <td>Liquor</td>\n",
       "      <td>3</td>\n",
       "      <td>shots (1oz)</td>\n",
       "    </tr>\n",
       "    <tr>\n",
       "      <th>524</th>\n",
       "      <td>SYM2-1-634</td>\n",
       "      <td>2023-12-10</td>\n",
       "      <td>Evening</td>\n",
       "      <td>Beer</td>\n",
       "      <td>2</td>\n",
       "      <td>glasses (500ml)</td>\n",
       "    </tr>\n",
       "    <tr>\n",
       "      <th>525</th>\n",
       "      <td>SYM2-1-634</td>\n",
       "      <td>2023-12-10</td>\n",
       "      <td>Evening</td>\n",
       "      <td>Soju</td>\n",
       "      <td>5</td>\n",
       "      <td>glasses (50ml)</td>\n",
       "    </tr>\n",
       "  </tbody>\n",
       "</table>\n",
       "<p>526 rows × 6 columns</p>\n",
       "</div>"
      ]
     },
     "execution_count": 41,
     "metadata": {},
     "output_type": "execute_result"
    }
   ],
   "execution_count": 41
  },
  {
   "metadata": {
    "ExecuteTime": {
     "end_time": "2025-03-03T18:49:14.018989Z",
     "start_time": "2025-03-03T18:49:14.010570Z"
    }
   },
   "cell_type": "code",
   "source": "df.isna().sum()",
   "id": "c68eb2ebb117ae24",
   "outputs": [
    {
     "data": {
      "text/plain": [
       "Non-identifying keys    0\n",
       "Date                    0\n",
       "When                    0\n",
       "Types of alcohol        0\n",
       "Alcohol consumption     0\n",
       "units                   0\n",
       "dtype: int64"
      ]
     },
     "execution_count": 6,
     "metadata": {},
     "output_type": "execute_result"
    }
   ],
   "execution_count": 6
  },
  {
   "metadata": {
    "ExecuteTime": {
     "end_time": "2025-03-03T18:49:35.471282Z",
     "start_time": "2025-03-03T18:49:35.463850Z"
    }
   },
   "cell_type": "code",
   "source": "df[\"When\"].unique()",
   "id": "17b340f820bf4bc8",
   "outputs": [
    {
     "data": {
      "text/plain": [
       "array(['Evening', 'AM', 'PM'], dtype=object)"
      ]
     },
     "execution_count": 8,
     "metadata": {},
     "output_type": "execute_result"
    }
   ],
   "execution_count": 8
  },
  {
   "metadata": {
    "ExecuteTime": {
     "end_time": "2025-03-03T18:55:10.070481Z",
     "start_time": "2025-03-03T18:55:10.061281Z"
    }
   },
   "cell_type": "code",
   "source": [
    "df[\"units\"]=df[\"units\"].str.extract(r\"(\\d+)\").astype(int)\n",
    "df[\"total_alcohol_consumption\"]=df[\"Alcohol consumption\"]*df[\"units\"]"
   ],
   "id": "3e3c2a9e7d9b3e63",
   "outputs": [],
   "execution_count": 29
  },
  {
   "metadata": {
    "ExecuteTime": {
     "end_time": "2025-03-03T18:55:38.569769Z",
     "start_time": "2025-03-03T18:55:38.563767Z"
    }
   },
   "cell_type": "code",
   "source": "df.drop(columns=[\"Alcohol consumption\",\"units\"],inplace=True)",
   "id": "c6178161f19c0469",
   "outputs": [],
   "execution_count": 32
  },
  {
   "metadata": {
    "ExecuteTime": {
     "end_time": "2025-03-03T18:57:35.592312Z",
     "start_time": "2025-03-03T18:57:35.581111Z"
    }
   },
   "cell_type": "code",
   "source": [
    "df[[\"id\",\"Date\"]].duplicated().sum()\n",
    "df=df[[\"id\",\"Date\"]].drop_duplicates(keep=\"first\")"
   ],
   "id": "3ef6f09356b472fd",
   "outputs": [],
   "execution_count": 47
  },
  {
   "metadata": {
    "ExecuteTime": {
     "end_time": "2025-03-03T18:59:05.407977Z",
     "start_time": "2025-03-03T18:59:05.393993Z"
    }
   },
   "cell_type": "code",
   "source": "df.to_csv(\"../data_processed/daily_lifelog/drinking.csv\",index=False)",
   "id": "b77d759db4722f2b",
   "outputs": [],
   "execution_count": 49
  }
 ],
 "metadata": {
  "kernelspec": {
   "display_name": "Python 3",
   "language": "python",
   "name": "python3"
  },
  "language_info": {
   "codemirror_mode": {
    "name": "ipython",
    "version": 2
   },
   "file_extension": ".py",
   "mimetype": "text/x-python",
   "name": "python",
   "nbconvert_exporter": "python",
   "pygments_lexer": "ipython2",
   "version": "2.7.6"
  }
 },
 "nbformat": 4,
 "nbformat_minor": 5
}
